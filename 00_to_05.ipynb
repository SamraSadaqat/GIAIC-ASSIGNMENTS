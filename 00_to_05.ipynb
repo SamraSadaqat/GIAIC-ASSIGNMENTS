{
  "nbformat": 4,
  "nbformat_minor": 0,
  "metadata": {
    "colab": {
      "provenance": [],
      "authorship_tag": "ABX9TyM+repDYV6OiYzNuAbbKCjX",
      "include_colab_link": true
    },
    "kernelspec": {
      "name": "python3",
      "display_name": "Python 3"
    },
    "language_info": {
      "name": "python"
    },
    "widgets": {
      "application/vnd.jupyter.widget-state+json": {
        "9c1aa2388f524ffb852248c06ed1abe2": {
          "model_module": "@jupyter-widgets/controls",
          "model_name": "VBoxModel",
          "model_module_version": "1.5.0",
          "state": {
            "_dom_classes": [
              "widget-interact"
            ],
            "_model_module": "@jupyter-widgets/controls",
            "_model_module_version": "1.5.0",
            "_model_name": "VBoxModel",
            "_view_count": null,
            "_view_module": "@jupyter-widgets/controls",
            "_view_module_version": "1.5.0",
            "_view_name": "VBoxView",
            "box_style": "",
            "children": [
              "IPY_MODEL_f848c9252ee54e47b3508bf9e5720bec",
              "IPY_MODEL_780351c7c82e43f9a7ae7bfe3794fb3b",
              "IPY_MODEL_7d3fc1118c7045078803669a8d691763"
            ],
            "layout": "IPY_MODEL_1e290bb564fb4c48a7b520148fa08101"
          }
        },
        "f848c9252ee54e47b3508bf9e5720bec": {
          "model_module": "@jupyter-widgets/controls",
          "model_name": "IntSliderModel",
          "model_module_version": "1.5.0",
          "state": {
            "_dom_classes": [],
            "_model_module": "@jupyter-widgets/controls",
            "_model_module_version": "1.5.0",
            "_model_name": "IntSliderModel",
            "_view_count": null,
            "_view_module": "@jupyter-widgets/controls",
            "_view_module_version": "1.5.0",
            "_view_name": "IntSliderView",
            "continuous_update": true,
            "description": "x",
            "description_tooltip": null,
            "disabled": false,
            "layout": "IPY_MODEL_a2751f6faf5c44be93aac90f01510900",
            "max": 9,
            "min": 0,
            "orientation": "horizontal",
            "readout": true,
            "readout_format": "d",
            "step": 1,
            "style": "IPY_MODEL_5032693a43074a9c8cd77a74667c4b0d",
            "value": 4
          }
        },
        "780351c7c82e43f9a7ae7bfe3794fb3b": {
          "model_module": "@jupyter-widgets/controls",
          "model_name": "IntSliderModel",
          "model_module_version": "1.5.0",
          "state": {
            "_dom_classes": [],
            "_model_module": "@jupyter-widgets/controls",
            "_model_module_version": "1.5.0",
            "_model_name": "IntSliderModel",
            "_view_count": null,
            "_view_module": "@jupyter-widgets/controls",
            "_view_module_version": "1.5.0",
            "_view_name": "IntSliderView",
            "continuous_update": true,
            "description": "y",
            "description_tooltip": null,
            "disabled": false,
            "layout": "IPY_MODEL_5378c9206eb44a81bc8fc3f0b3c0c847",
            "max": 9,
            "min": 0,
            "orientation": "horizontal",
            "readout": true,
            "readout_format": "d",
            "step": 1,
            "style": "IPY_MODEL_09bafbfb3b7c4222a04c4a7256c52174",
            "value": 4
          }
        },
        "7d3fc1118c7045078803669a8d691763": {
          "model_module": "@jupyter-widgets/output",
          "model_name": "OutputModel",
          "model_module_version": "1.0.0",
          "state": {
            "_dom_classes": [],
            "_model_module": "@jupyter-widgets/output",
            "_model_module_version": "1.0.0",
            "_model_name": "OutputModel",
            "_view_count": null,
            "_view_module": "@jupyter-widgets/output",
            "_view_module_version": "1.0.0",
            "_view_name": "OutputView",
            "layout": "IPY_MODEL_4667bd2ffcdc419bbc98c46893f74946",
            "msg_id": "",
            "outputs": [
              {
                "output_type": "display_data",
                "data": {
                  "text/plain": "<Figure size 500x500 with 1 Axes>",
                  "image/png": "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\n"
                },
                "metadata": {}
              }
            ]
          }
        },
        "1e290bb564fb4c48a7b520148fa08101": {
          "model_module": "@jupyter-widgets/base",
          "model_name": "LayoutModel",
          "model_module_version": "1.2.0",
          "state": {
            "_model_module": "@jupyter-widgets/base",
            "_model_module_version": "1.2.0",
            "_model_name": "LayoutModel",
            "_view_count": null,
            "_view_module": "@jupyter-widgets/base",
            "_view_module_version": "1.2.0",
            "_view_name": "LayoutView",
            "align_content": null,
            "align_items": null,
            "align_self": null,
            "border": null,
            "bottom": null,
            "display": null,
            "flex": null,
            "flex_flow": null,
            "grid_area": null,
            "grid_auto_columns": null,
            "grid_auto_flow": null,
            "grid_auto_rows": null,
            "grid_column": null,
            "grid_gap": null,
            "grid_row": null,
            "grid_template_areas": null,
            "grid_template_columns": null,
            "grid_template_rows": null,
            "height": null,
            "justify_content": null,
            "justify_items": null,
            "left": null,
            "margin": null,
            "max_height": null,
            "max_width": null,
            "min_height": null,
            "min_width": null,
            "object_fit": null,
            "object_position": null,
            "order": null,
            "overflow": null,
            "overflow_x": null,
            "overflow_y": null,
            "padding": null,
            "right": null,
            "top": null,
            "visibility": null,
            "width": null
          }
        },
        "a2751f6faf5c44be93aac90f01510900": {
          "model_module": "@jupyter-widgets/base",
          "model_name": "LayoutModel",
          "model_module_version": "1.2.0",
          "state": {
            "_model_module": "@jupyter-widgets/base",
            "_model_module_version": "1.2.0",
            "_model_name": "LayoutModel",
            "_view_count": null,
            "_view_module": "@jupyter-widgets/base",
            "_view_module_version": "1.2.0",
            "_view_name": "LayoutView",
            "align_content": null,
            "align_items": null,
            "align_self": null,
            "border": null,
            "bottom": null,
            "display": null,
            "flex": null,
            "flex_flow": null,
            "grid_area": null,
            "grid_auto_columns": null,
            "grid_auto_flow": null,
            "grid_auto_rows": null,
            "grid_column": null,
            "grid_gap": null,
            "grid_row": null,
            "grid_template_areas": null,
            "grid_template_columns": null,
            "grid_template_rows": null,
            "height": null,
            "justify_content": null,
            "justify_items": null,
            "left": null,
            "margin": null,
            "max_height": null,
            "max_width": null,
            "min_height": null,
            "min_width": null,
            "object_fit": null,
            "object_position": null,
            "order": null,
            "overflow": null,
            "overflow_x": null,
            "overflow_y": null,
            "padding": null,
            "right": null,
            "top": null,
            "visibility": null,
            "width": null
          }
        },
        "5032693a43074a9c8cd77a74667c4b0d": {
          "model_module": "@jupyter-widgets/controls",
          "model_name": "SliderStyleModel",
          "model_module_version": "1.5.0",
          "state": {
            "_model_module": "@jupyter-widgets/controls",
            "_model_module_version": "1.5.0",
            "_model_name": "SliderStyleModel",
            "_view_count": null,
            "_view_module": "@jupyter-widgets/base",
            "_view_module_version": "1.2.0",
            "_view_name": "StyleView",
            "description_width": "",
            "handle_color": null
          }
        },
        "5378c9206eb44a81bc8fc3f0b3c0c847": {
          "model_module": "@jupyter-widgets/base",
          "model_name": "LayoutModel",
          "model_module_version": "1.2.0",
          "state": {
            "_model_module": "@jupyter-widgets/base",
            "_model_module_version": "1.2.0",
            "_model_name": "LayoutModel",
            "_view_count": null,
            "_view_module": "@jupyter-widgets/base",
            "_view_module_version": "1.2.0",
            "_view_name": "LayoutView",
            "align_content": null,
            "align_items": null,
            "align_self": null,
            "border": null,
            "bottom": null,
            "display": null,
            "flex": null,
            "flex_flow": null,
            "grid_area": null,
            "grid_auto_columns": null,
            "grid_auto_flow": null,
            "grid_auto_rows": null,
            "grid_column": null,
            "grid_gap": null,
            "grid_row": null,
            "grid_template_areas": null,
            "grid_template_columns": null,
            "grid_template_rows": null,
            "height": null,
            "justify_content": null,
            "justify_items": null,
            "left": null,
            "margin": null,
            "max_height": null,
            "max_width": null,
            "min_height": null,
            "min_width": null,
            "object_fit": null,
            "object_position": null,
            "order": null,
            "overflow": null,
            "overflow_x": null,
            "overflow_y": null,
            "padding": null,
            "right": null,
            "top": null,
            "visibility": null,
            "width": null
          }
        },
        "09bafbfb3b7c4222a04c4a7256c52174": {
          "model_module": "@jupyter-widgets/controls",
          "model_name": "SliderStyleModel",
          "model_module_version": "1.5.0",
          "state": {
            "_model_module": "@jupyter-widgets/controls",
            "_model_module_version": "1.5.0",
            "_model_name": "SliderStyleModel",
            "_view_count": null,
            "_view_module": "@jupyter-widgets/base",
            "_view_module_version": "1.2.0",
            "_view_name": "StyleView",
            "description_width": "",
            "handle_color": null
          }
        },
        "4667bd2ffcdc419bbc98c46893f74946": {
          "model_module": "@jupyter-widgets/base",
          "model_name": "LayoutModel",
          "model_module_version": "1.2.0",
          "state": {
            "_model_module": "@jupyter-widgets/base",
            "_model_module_version": "1.2.0",
            "_model_name": "LayoutModel",
            "_view_count": null,
            "_view_module": "@jupyter-widgets/base",
            "_view_module_version": "1.2.0",
            "_view_name": "LayoutView",
            "align_content": null,
            "align_items": null,
            "align_self": null,
            "border": null,
            "bottom": null,
            "display": null,
            "flex": null,
            "flex_flow": null,
            "grid_area": null,
            "grid_auto_columns": null,
            "grid_auto_flow": null,
            "grid_auto_rows": null,
            "grid_column": null,
            "grid_gap": null,
            "grid_row": null,
            "grid_template_areas": null,
            "grid_template_columns": null,
            "grid_template_rows": null,
            "height": null,
            "justify_content": null,
            "justify_items": null,
            "left": null,
            "margin": null,
            "max_height": null,
            "max_width": null,
            "min_height": null,
            "min_width": null,
            "object_fit": null,
            "object_position": null,
            "order": null,
            "overflow": null,
            "overflow_x": null,
            "overflow_y": null,
            "padding": null,
            "right": null,
            "top": null,
            "visibility": null,
            "width": null
          }
        }
      }
    }
  },
  "cells": [
    {
      "cell_type": "markdown",
      "metadata": {
        "id": "view-in-github",
        "colab_type": "text"
      },
      "source": [
        "<a href=\"https://colab.research.google.com/github/SamraSadaqat/GIAIC-ASSIGNMENTS/blob/main/00_to_05.ipynb\" target=\"_parent\"><img src=\"https://colab.research.google.com/assets/colab-badge.svg\" alt=\"Open In Colab\"/></a>"
      ]
    },
    {
      "cell_type": "markdown",
      "source": [
        "\n",
        "01_add_two_numbers\n"
      ],
      "metadata": {
        "id": "SEzkkxjj8JzL"
      }
    },
    {
      "cell_type": "code",
      "execution_count": null,
      "metadata": {
        "colab": {
          "base_uri": "https://localhost:8080/"
        },
        "id": "OowwdGy31Ucc",
        "outputId": "6b76ac13-3131-4a85-a196-6376db7edd77"
      },
      "outputs": [
        {
          "output_type": "stream",
          "name": "stdout",
          "text": [
            "Enter the first number: 4\n",
            "Enter the second number: 2\n",
            "The sum of 4 and 2 is 6.\n"
          ]
        }
      ],
      "source": [
        "def main():\n",
        "    # Prompt user for the first number\n",
        "    num1 = int(input(\"Enter the first number: \"))\n",
        "\n",
        "    # Prompt user for the second number\n",
        "    num2 = int(input(\"Enter the second number: \"))\n",
        "\n",
        "    # Calculate the sum\n",
        "    total = num1 + num2\n",
        "\n",
        "    # Print the result\n",
        "    print(f\"The sum of {num1} and {num2} is {total}.\")\n",
        "\n",
        "# Run the main function\n",
        "if __name__ == \"__main__\":\n",
        "    main()\n"
      ]
    },
    {
      "cell_type": "markdown",
      "source": [
        "02_agreement_bot"
      ],
      "metadata": {
        "id": "eFBuwP688UQP"
      }
    },
    {
      "cell_type": "code",
      "source": [
        "def main():\n",
        "    # Prompt user for their favorite animal\n",
        "    favorite_animal = input(\"What's your favorite animal? \")\n",
        "\n",
        "    # Respond with the same favorite animal\n",
        "    print(f\"My favorite animal is also {favorite_animal}!\")\n",
        "\n",
        "# Run the main function\n",
        "if __name__ == \"__main__\":\n",
        "    main()\n"
      ],
      "metadata": {
        "colab": {
          "base_uri": "https://localhost:8080/"
        },
        "id": "xpQlUDWP2dMZ",
        "outputId": "3a6e7541-c400-4e5b-897d-306d77635038"
      },
      "execution_count": null,
      "outputs": [
        {
          "output_type": "stream",
          "name": "stdout",
          "text": [
            "What's your favorite animal? cat\n",
            "My favorite animal is also cat!\n"
          ]
        }
      ]
    },
    {
      "cell_type": "markdown",
      "source": [
        "03_fahrenheit_to_celsius"
      ],
      "metadata": {
        "id": "Zfav9TWC8YTQ"
      }
    },
    {
      "cell_type": "code",
      "source": [
        "def main():\n",
        "    # Prompt user for temperature in Fahrenheit\n",
        "    degrees_fahrenheit = float(input(\"Enter temperature in Fahrenheit: \"))\n",
        "\n",
        "    # Convert Fahrenheit to Celsius\n",
        "    degrees_celsius = (degrees_fahrenheit - 32) * 5.0 / 9.0\n",
        "\n",
        "    # Print the result\n",
        "    print(f\"Temperature: {degrees_fahrenheit:.1f}F = {degrees_celsius}C\")\n",
        "\n",
        "# Run the main function\n",
        "if __name__ == \"__main__\":\n",
        "    main()\n"
      ],
      "metadata": {
        "colab": {
          "base_uri": "https://localhost:8080/"
        },
        "id": "gzmnDw0I6uPO",
        "outputId": "275ffcd5-3e6b-4ce9-9a04-c611a3587162"
      },
      "execution_count": null,
      "outputs": [
        {
          "output_type": "stream",
          "name": "stdout",
          "text": [
            "Enter temperature in Fahrenheit: 76\n",
            "Temperature: 76.0F = 24.444444444444443C\n"
          ]
        }
      ]
    },
    {
      "cell_type": "markdown",
      "source": [
        "04_how_old_are_they"
      ],
      "metadata": {
        "id": "sJZyOXtH8fSj"
      }
    },
    {
      "cell_type": "code",
      "source": [
        "def main():\n",
        "    # Define ages based on the given riddle\n",
        "    Anton = 21\n",
        "    Beth = Anton + 6\n",
        "    Chen = Beth + 20\n",
        "    Drew = Chen + Anton\n",
        "    Ethan = Chen\n",
        "\n",
        "    # Print names and ages\n",
        "    print(f\"Anton is {Anton}\")\n",
        "    print(f\"Beth is {Beth}\")\n",
        "    print(f\"Chen is {Chen}\")\n",
        "    print(f\"Drew is {Drew}\")\n",
        "    print(f\"Ethan is {Ethan}\")\n",
        "\n",
        "# Run the main function\n",
        "if __name__ == \"__main__\":\n",
        "    main()\n"
      ],
      "metadata": {
        "colab": {
          "base_uri": "https://localhost:8080/"
        },
        "id": "zXNVeWaN8eqQ",
        "outputId": "7aa344d5-9bfa-4928-a30d-774c3f87ba2a"
      },
      "execution_count": null,
      "outputs": [
        {
          "output_type": "stream",
          "name": "stdout",
          "text": [
            "Anton is 21\n",
            "Beth is 27\n",
            "Chen is 47\n",
            "Drew is 68\n",
            "Ethan is 47\n"
          ]
        }
      ]
    },
    {
      "cell_type": "markdown",
      "source": [
        "05_triangle_perimeter"
      ],
      "metadata": {
        "id": "YwLAc6EBz5BF"
      }
    },
    {
      "cell_type": "code",
      "source": [
        "def main():\n",
        "    # Prompt user for the lengths of the triangle sides\n",
        "    side1 = float(input(\"What is the length of side 1? \"))\n",
        "    side2 = float(input(\"What is the length of side 2? \"))\n",
        "    side3 = float(input(\"What is the length of side 3? \"))\n",
        "\n",
        "    # Calculate the perimeter\n",
        "    perimeter = side1 + side2 + side3\n",
        "\n",
        "    # Print the result\n",
        "    print(f\"The perimeter of the triangle is {perimeter}\")\n",
        "\n",
        "# Run the main function\n",
        "if __name__ == \"__main__\":\n",
        "    main()\n"
      ],
      "metadata": {
        "colab": {
          "base_uri": "https://localhost:8080/"
        },
        "id": "wuyNCUQiz34a",
        "outputId": "7deabd26-d67b-4b1a-e9b7-282135248cd4"
      },
      "execution_count": null,
      "outputs": [
        {
          "output_type": "stream",
          "name": "stdout",
          "text": [
            "What is the length of side 1? 5\n",
            "What is the length of side 2? 5\n",
            "What is the length of side 3? 6\n",
            "The perimeter of the triangle is 16.0\n"
          ]
        }
      ]
    },
    {
      "cell_type": "markdown",
      "source": [
        "06_square_number"
      ],
      "metadata": {
        "id": "UT33k3H_0dDL"
      }
    },
    {
      "cell_type": "code",
      "source": [
        "def main():\n",
        "    # Prompt user for a number\n",
        "    number = float(input(\"Type a number to see its square: \"))\n",
        "\n",
        "    # Calculate the square\n",
        "    square = number * number\n",
        "\n",
        "    # Print the result\n",
        "    print(f\"{number} squared is {square}\")\n",
        "\n",
        "# Run the main function\n",
        "if __name__ == \"__main__\":\n",
        "    main()\n"
      ],
      "metadata": {
        "colab": {
          "base_uri": "https://localhost:8080/"
        },
        "id": "xSkSclJ10clX",
        "outputId": "9f5bd8a7-ff0b-4cc8-9f86-676d058d98a1"
      },
      "execution_count": null,
      "outputs": [
        {
          "output_type": "stream",
          "name": "stdout",
          "text": [
            "Type a number to see its square: 9\n",
            "9.0 squared is 81.0\n"
          ]
        }
      ]
    },
    {
      "cell_type": "markdown",
      "source": [
        "01_dicesimulator"
      ],
      "metadata": {
        "id": "dnxaUr871dDZ"
      }
    },
    {
      "cell_type": "code",
      "source": [
        "import random\n",
        "\n",
        "def roll_dice():\n",
        "    # Roll two dice and return their values\n",
        "    die1 = random.randint(1, 6)\n",
        "    die2 = random.randint(1, 6)\n",
        "    return die1, die2\n",
        "\n",
        "def main():\n",
        "    # Simulate rolling two dice three times\n",
        "    for i in range(1, 4):\n",
        "        die1, die2 = roll_dice()\n",
        "        print(f\"Roll {i}: Die 1 = {die1}, Die 2 = {die2}\")\n",
        "\n",
        "# Run the main function\n",
        "if __name__ == \"__main__\":\n",
        "    main()\n"
      ],
      "metadata": {
        "colab": {
          "base_uri": "https://localhost:8080/"
        },
        "id": "3NbA97pn1eEv",
        "outputId": "a525b0bd-c4f8-4fee-a25b-ace25eff6608"
      },
      "execution_count": null,
      "outputs": [
        {
          "output_type": "stream",
          "name": "stdout",
          "text": [
            "Roll 1: Die 1 = 5, Die 2 = 1\n",
            "Roll 2: Die 1 = 6, Die 2 = 6\n",
            "Roll 3: Die 1 = 4, Die 2 = 4\n"
          ]
        }
      ]
    },
    {
      "cell_type": "markdown",
      "source": [
        "02_e=mc2"
      ],
      "metadata": {
        "id": "zlXtfXiy155q"
      }
    },
    {
      "cell_type": "code",
      "source": [
        "def main():\n",
        "    # Define the speed of light constant\n",
        "    C = 299792458  # m/s\n",
        "\n",
        "    while True:\n",
        "        # Prompt user for mass in kilograms\n",
        "        mass = float(input(\"Enter kilos of mass: \"))\n",
        "\n",
        "        # Calculate energy using Einstein's equation\n",
        "        energy = mass * C**2\n",
        "\n",
        "        # Print the result\n",
        "        print(\"\\ne = m * C^2...\")\n",
        "        print(f\"m = {mass} kg\")\n",
        "        print(f\"C = {C} m/s\")\n",
        "        print(f\"{energy} joules of energy!\\n\")\n",
        "\n",
        "# Run the main function\n",
        "if __name__ == \"__main__\":\n",
        "    main()\n"
      ],
      "metadata": {
        "colab": {
          "base_uri": "https://localhost:8080/",
          "height": 460
        },
        "id": "Hm1iEDsi15ac",
        "outputId": "b79dd64c-6c19-4bc5-9ce7-41a850d2410c"
      },
      "execution_count": null,
      "outputs": [
        {
          "output_type": "stream",
          "name": "stdout",
          "text": [
            "Enter kilos of mass: 100\n",
            "\n",
            "e = m * C^2...\n",
            "m = 100.0 kg\n",
            "C = 299792458 m/s\n",
            "8.987551787368176e+18 joules of energy!\n",
            "\n"
          ]
        },
        {
          "output_type": "error",
          "ename": "KeyboardInterrupt",
          "evalue": "Interrupted by user",
          "traceback": [
            "\u001b[0;31m---------------------------------------------------------------------------\u001b[0m",
            "\u001b[0;31mKeyboardInterrupt\u001b[0m                         Traceback (most recent call last)",
            "\u001b[0;32m<ipython-input-9-3c45acb227ff>\u001b[0m in \u001b[0;36m<cell line: 0>\u001b[0;34m()\u001b[0m\n\u001b[1;32m     18\u001b[0m \u001b[0;31m# Run the main function\u001b[0m\u001b[0;34m\u001b[0m\u001b[0;34m\u001b[0m\u001b[0m\n\u001b[1;32m     19\u001b[0m \u001b[0;32mif\u001b[0m \u001b[0m__name__\u001b[0m \u001b[0;34m==\u001b[0m \u001b[0;34m\"__main__\"\u001b[0m\u001b[0;34m:\u001b[0m\u001b[0;34m\u001b[0m\u001b[0;34m\u001b[0m\u001b[0m\n\u001b[0;32m---> 20\u001b[0;31m     \u001b[0mmain\u001b[0m\u001b[0;34m(\u001b[0m\u001b[0;34m)\u001b[0m\u001b[0;34m\u001b[0m\u001b[0;34m\u001b[0m\u001b[0m\n\u001b[0m",
            "\u001b[0;32m<ipython-input-9-3c45acb227ff>\u001b[0m in \u001b[0;36mmain\u001b[0;34m()\u001b[0m\n\u001b[1;32m      5\u001b[0m     \u001b[0;32mwhile\u001b[0m \u001b[0;32mTrue\u001b[0m\u001b[0;34m:\u001b[0m\u001b[0;34m\u001b[0m\u001b[0;34m\u001b[0m\u001b[0m\n\u001b[1;32m      6\u001b[0m         \u001b[0;31m# Prompt user for mass in kilograms\u001b[0m\u001b[0;34m\u001b[0m\u001b[0;34m\u001b[0m\u001b[0m\n\u001b[0;32m----> 7\u001b[0;31m         \u001b[0mmass\u001b[0m \u001b[0;34m=\u001b[0m \u001b[0mfloat\u001b[0m\u001b[0;34m(\u001b[0m\u001b[0minput\u001b[0m\u001b[0;34m(\u001b[0m\u001b[0;34m\"Enter kilos of mass: \"\u001b[0m\u001b[0;34m)\u001b[0m\u001b[0;34m)\u001b[0m\u001b[0;34m\u001b[0m\u001b[0;34m\u001b[0m\u001b[0m\n\u001b[0m\u001b[1;32m      8\u001b[0m \u001b[0;34m\u001b[0m\u001b[0m\n\u001b[1;32m      9\u001b[0m         \u001b[0;31m# Calculate energy using Einstein's equation\u001b[0m\u001b[0;34m\u001b[0m\u001b[0;34m\u001b[0m\u001b[0m\n",
            "\u001b[0;32m/usr/local/lib/python3.11/dist-packages/ipykernel/kernelbase.py\u001b[0m in \u001b[0;36mraw_input\u001b[0;34m(self, prompt)\u001b[0m\n\u001b[1;32m   1175\u001b[0m                 \u001b[0;34m\"raw_input was called, but this frontend does not support input requests.\"\u001b[0m\u001b[0;34m\u001b[0m\u001b[0;34m\u001b[0m\u001b[0m\n\u001b[1;32m   1176\u001b[0m             )\n\u001b[0;32m-> 1177\u001b[0;31m         return self._input_request(\n\u001b[0m\u001b[1;32m   1178\u001b[0m             \u001b[0mstr\u001b[0m\u001b[0;34m(\u001b[0m\u001b[0mprompt\u001b[0m\u001b[0;34m)\u001b[0m\u001b[0;34m,\u001b[0m\u001b[0;34m\u001b[0m\u001b[0;34m\u001b[0m\u001b[0m\n\u001b[1;32m   1179\u001b[0m             \u001b[0mself\u001b[0m\u001b[0;34m.\u001b[0m\u001b[0m_parent_ident\u001b[0m\u001b[0;34m[\u001b[0m\u001b[0;34m\"shell\"\u001b[0m\u001b[0;34m]\u001b[0m\u001b[0;34m,\u001b[0m\u001b[0;34m\u001b[0m\u001b[0;34m\u001b[0m\u001b[0m\n",
            "\u001b[0;32m/usr/local/lib/python3.11/dist-packages/ipykernel/kernelbase.py\u001b[0m in \u001b[0;36m_input_request\u001b[0;34m(self, prompt, ident, parent, password)\u001b[0m\n\u001b[1;32m   1217\u001b[0m             \u001b[0;32mexcept\u001b[0m \u001b[0mKeyboardInterrupt\u001b[0m\u001b[0;34m:\u001b[0m\u001b[0;34m\u001b[0m\u001b[0;34m\u001b[0m\u001b[0m\n\u001b[1;32m   1218\u001b[0m                 \u001b[0;31m# re-raise KeyboardInterrupt, to truncate traceback\u001b[0m\u001b[0;34m\u001b[0m\u001b[0;34m\u001b[0m\u001b[0m\n\u001b[0;32m-> 1219\u001b[0;31m                 \u001b[0;32mraise\u001b[0m \u001b[0mKeyboardInterrupt\u001b[0m\u001b[0;34m(\u001b[0m\u001b[0;34m\"Interrupted by user\"\u001b[0m\u001b[0;34m)\u001b[0m \u001b[0;32mfrom\u001b[0m \u001b[0;32mNone\u001b[0m\u001b[0;34m\u001b[0m\u001b[0;34m\u001b[0m\u001b[0m\n\u001b[0m\u001b[1;32m   1220\u001b[0m             \u001b[0;32mexcept\u001b[0m \u001b[0mException\u001b[0m\u001b[0;34m:\u001b[0m\u001b[0;34m\u001b[0m\u001b[0;34m\u001b[0m\u001b[0m\n\u001b[1;32m   1221\u001b[0m                 \u001b[0mself\u001b[0m\u001b[0;34m.\u001b[0m\u001b[0mlog\u001b[0m\u001b[0;34m.\u001b[0m\u001b[0mwarning\u001b[0m\u001b[0;34m(\u001b[0m\u001b[0;34m\"Invalid Message:\"\u001b[0m\u001b[0;34m,\u001b[0m \u001b[0mexc_info\u001b[0m\u001b[0;34m=\u001b[0m\u001b[0;32mTrue\u001b[0m\u001b[0;34m)\u001b[0m\u001b[0;34m\u001b[0m\u001b[0;34m\u001b[0m\u001b[0m\n",
            "\u001b[0;31mKeyboardInterrupt\u001b[0m: Interrupted by user"
          ]
        }
      ]
    },
    {
      "cell_type": "markdown",
      "source": [
        "03_feet_to_inches"
      ],
      "metadata": {
        "id": "wLoqsgmR2hYH"
      }
    },
    {
      "cell_type": "code",
      "source": [
        "def main():\n",
        "    # Constant for inches per foot\n",
        "    INCHES_PER_FOOT = 12\n",
        "\n",
        "    # Prompt user for length in feet\n",
        "    feet = float(input(\"Enter length in feet: \"))\n",
        "\n",
        "    # Convert feet to inches\n",
        "    inches = feet * INCHES_PER_FOOT\n",
        "\n",
        "    # Determine singular or plural form\n",
        "    unit = \"foot\" if feet == 1 else \"feet\"\n",
        "\n",
        "    # Print the result\n",
        "    print(f\"{feet} {unit} is equal to {inches} inches.\")\n",
        "\n",
        "# Run the main function\n",
        "if __name__ == \"__main__\":\n",
        "    main()\n"
      ],
      "metadata": {
        "colab": {
          "base_uri": "https://localhost:8080/"
        },
        "id": "p6gS8IYg2ZBo",
        "outputId": "0192f54c-a7ff-4f78-d6bf-329a0e75fc69"
      },
      "execution_count": null,
      "outputs": [
        {
          "output_type": "stream",
          "name": "stdout",
          "text": [
            "Enter length in feet: 5\n",
            "5.0 feet is equal to 60.0 inches.\n"
          ]
        }
      ]
    },
    {
      "cell_type": "markdown",
      "source": [
        "04_pythagorean_theorem"
      ],
      "metadata": {
        "id": "amS6AzJD4KdZ"
      }
    },
    {
      "cell_type": "code",
      "source": [
        "import math\n",
        "\n",
        "def main():\n",
        "    # Prompt user for the lengths of the two perpendicular sides\n",
        "    ab = float(input(\"Enter the length of AB: \"))\n",
        "    ac = float(input(\"Enter the length of AC: \"))\n",
        "\n",
        "    # Calculate the hypotenuse using the Pythagorean theorem\n",
        "    bc = math.sqrt(ab**2 + ac**2)\n",
        "\n",
        "    # Print the result\n",
        "    print(f\"The length of BC (the hypotenuse) is: {bc}\")\n",
        "\n",
        "# Run the main function\n",
        "if __name__ == \"__main__\":\n",
        "    main()\n"
      ],
      "metadata": {
        "colab": {
          "base_uri": "https://localhost:8080/"
        },
        "id": "JY1V45hP4HHS",
        "outputId": "6429249a-6ad1-4660-9f5e-475752b83c98"
      },
      "execution_count": null,
      "outputs": [
        {
          "output_type": "stream",
          "name": "stdout",
          "text": [
            "Enter the length of AB: 3\n",
            "Enter the length of AC: 4\n",
            "The length of BC (the hypotenuse) is: 5.0\n"
          ]
        }
      ]
    },
    {
      "cell_type": "markdown",
      "source": [
        "05_remainder_division"
      ],
      "metadata": {
        "id": "foBdjvYl4hc-"
      }
    },
    {
      "cell_type": "code",
      "source": [
        "def main():\n",
        "    # Prompt user for two integers\n",
        "    dividend = int(input(\"Please enter an integer to be divided: \"))\n",
        "    divisor = int(input(\"Please enter an integer to divide by: \"))\n",
        "\n",
        "    # Perform division and find remainder\n",
        "    quotient = dividend // divisor\n",
        "    remainder = dividend % divisor\n",
        "\n",
        "    # Print the result\n",
        "    print(f\"The result of this division is {quotient} with a remainder of {remainder}\")\n",
        "\n",
        "# Run the main function\n",
        "if __name__ == \"__main__\":\n",
        "    main()\n"
      ],
      "metadata": {
        "colab": {
          "base_uri": "https://localhost:8080/"
        },
        "id": "Fkttkrbs4g3a",
        "outputId": "d811cd81-2ee5-4f31-8b3b-807f97851c05"
      },
      "execution_count": null,
      "outputs": [
        {
          "output_type": "stream",
          "name": "stdout",
          "text": [
            "Please enter an integer to be divided: 5\n",
            "Please enter an integer to divide by: 3\n",
            "The result of this division is 1 with a remainder of 2\n"
          ]
        }
      ]
    },
    {
      "cell_type": "markdown",
      "source": [
        "06_rolldice"
      ],
      "metadata": {
        "id": "S9GYrODY4ya5"
      }
    },
    {
      "cell_type": "code",
      "source": [
        "import random\n",
        "\n",
        "def roll_dice():\n",
        "    # Roll two dice and return their values\n",
        "    die1 = random.randint(1, 6)\n",
        "    die2 = random.randint(1, 6)\n",
        "    return die1, die2\n",
        "\n",
        "def main():\n",
        "    # Roll two dice\n",
        "    die1, die2 = roll_dice()\n",
        "    total = die1 + die2\n",
        "\n",
        "    # Print the results\n",
        "    print(f\"Die 1: {die1}\")\n",
        "    print(f\"Die 2: {die2}\")\n",
        "    print(f\"Total: {total}\")\n",
        "\n",
        "# Run the main function\n",
        "if __name__ == \"__main__\":\n",
        "    main()\n"
      ],
      "metadata": {
        "colab": {
          "base_uri": "https://localhost:8080/"
        },
        "id": "j0vRh5ee4vhR",
        "outputId": "074b7ac7-12e2-4adc-a13f-c712106d3839"
      },
      "execution_count": null,
      "outputs": [
        {
          "output_type": "stream",
          "name": "stdout",
          "text": [
            "Die 1: 2\n",
            "Die 2: 4\n",
            "Total: 6\n"
          ]
        }
      ]
    },
    {
      "cell_type": "markdown",
      "source": [
        "06_seconds_in_year"
      ],
      "metadata": {
        "id": "Z2AYS8cL5Ewy"
      }
    },
    {
      "cell_type": "code",
      "source": [
        "def main():\n",
        "    # Define constants\n",
        "    DAYS_IN_YEAR = 365\n",
        "    HOURS_IN_DAY = 24\n",
        "    MINUTES_IN_HOUR = 60\n",
        "    SECONDS_IN_MINUTE = 60\n",
        "\n",
        "    # Calculate seconds in a year\n",
        "    seconds_in_year = DAYS_IN_YEAR * HOURS_IN_DAY * MINUTES_IN_HOUR * SECONDS_IN_MINUTE\n",
        "\n",
        "    # Print the result\n",
        "    print(f\"There are {seconds_in_year} seconds in a year!\")\n",
        "\n",
        "# Run the main function\n",
        "if __name__ == \"__main__\":\n",
        "    main()\n"
      ],
      "metadata": {
        "colab": {
          "base_uri": "https://localhost:8080/"
        },
        "id": "vxgRDpDR5CSs",
        "outputId": "89c4719a-60f8-4070-918a-ce9ab1dfe878"
      },
      "execution_count": null,
      "outputs": [
        {
          "output_type": "stream",
          "name": "stdout",
          "text": [
            "There are 31536000 seconds in a year!\n"
          ]
        }
      ]
    },
    {
      "cell_type": "markdown",
      "source": [
        "07_tiny_mad_lib"
      ],
      "metadata": {
        "id": "OC3q9NIa5Zw4"
      }
    },
    {
      "cell_type": "code",
      "source": [
        "def main():\n",
        "    # Prompt user for an adjective, noun, and verb\n",
        "    adjective = input(\"Please type an adjective and press enter. \")\n",
        "    noun = input(\"Please type a noun and press enter. \")\n",
        "    verb = input(\"Please type a verb and press enter. \")\n",
        "\n",
        "    # Create the sentence\n",
        "    SENTENCE_START = \"Code in Place is fun. I learned to program and used Python to make my\"\n",
        "    sentence = f\"{SENTENCE_START} {adjective} {noun} {verb}!\"\n",
        "\n",
        "    # Print the result\n",
        "    print(sentence)\n",
        "\n",
        "# Run the main function\n",
        "if __name__ == \"__main__\":\n",
        "    main()\n"
      ],
      "metadata": {
        "colab": {
          "base_uri": "https://localhost:8080/"
        },
        "id": "vSEZmpfS5ZQf",
        "outputId": "0ac38eac-1afc-45c7-9eb8-c9a7b2b3d8f8"
      },
      "execution_count": null,
      "outputs": [
        {
          "output_type": "stream",
          "name": "stdout",
          "text": [
            "Please type an adjective and press enter. intelligent\n",
            "Please type a noun and press enter. John\n",
            "Please type a verb and press enter. work\n",
            "Code in Place is fun. I learned to program and used Python to make my intelligent John work!\n"
          ]
        }
      ]
    },
    {
      "cell_type": "markdown",
      "source": [
        "\n",
        "01_add_many_number"
      ],
      "metadata": {
        "id": "x1grh_V56Kcq"
      }
    },
    {
      "cell_type": "code",
      "source": [
        "def sum_numbers(numbers):\n",
        "    # Calculate the sum of the list of numbers\n",
        "    return sum(numbers)\n",
        "\n",
        "# Example usage\n",
        "numbers_list = [1, 2, 3, 4, 5,8]\n",
        "result = sum_numbers(numbers_list)\n",
        "print(f\"The sum of the numbers is: {result}\")\n"
      ],
      "metadata": {
        "colab": {
          "base_uri": "https://localhost:8080/"
        },
        "id": "xpjoi8jm6BUT",
        "outputId": "f94d308c-d552-40e2-ff14-fc5fb8c3da53"
      },
      "execution_count": null,
      "outputs": [
        {
          "output_type": "stream",
          "name": "stdout",
          "text": [
            "The sum of the numbers is: 23\n"
          ]
        }
      ]
    },
    {
      "cell_type": "markdown",
      "source": [
        "02_double_list"
      ],
      "metadata": {
        "id": "nd4FuNYE6gxb"
      }
    },
    {
      "cell_type": "code",
      "source": [
        "def double_numbers(numbers):\n",
        "    # Double each number in the list using a list comprehension\n",
        "    return [num * 2 for num in numbers]\n",
        "\n",
        "# Example usage\n",
        "numbers = [1, 2, 3, 4,8]\n",
        "doubled_numbers = double_numbers(numbers)\n",
        "print(f\"Doubled numbers: {doubled_numbers}\")\n"
      ],
      "metadata": {
        "colab": {
          "base_uri": "https://localhost:8080/"
        },
        "id": "LF2p-AUc6hdS",
        "outputId": "e620a94d-9db6-4713-db0b-9ab48b7aa271"
      },
      "execution_count": null,
      "outputs": [
        {
          "output_type": "stream",
          "name": "stdout",
          "text": [
            "Doubled numbers: [2, 4, 6, 8, 16]\n"
          ]
        }
      ]
    },
    {
      "cell_type": "markdown",
      "source": [
        "03_erase_canvas"
      ],
      "metadata": {
        "id": "wRJV_H4d7AJv"
      }
    },
    {
      "cell_type": "code",
      "source": [
        "import numpy as np\n",
        "import matplotlib.pyplot as plt\n",
        "from ipywidgets import interact\n",
        "\n",
        "# Create a blank grid (canvas) of blue cells\n",
        "canvas_size = 10  # 10x10 grid\n",
        "canvas = np.ones((canvas_size, canvas_size))\n",
        "\n",
        "# Function to display the canvas\n",
        "def display_canvas():\n",
        "    fig, ax = plt.subplots(figsize=(5, 5))\n",
        "    ax.imshow(canvas, cmap='Blues', interpolation='nearest')\n",
        "    ax.set_xticks(np.arange(-0.5, canvas_size, 1), minor=True)\n",
        "    ax.set_yticks(np.arange(-0.5, canvas_size, 1), minor=True)\n",
        "    ax.grid(which='minor', color='black', linestyle='-', linewidth=2)\n",
        "    plt.gca().invert_yaxis()  # Invert y-axis for correct display\n",
        "    plt.show()\n",
        "\n",
        "# Function to erase part of the canvas\n",
        "def erase(x, y):\n",
        "    global canvas\n",
        "    if 0 <= x < canvas_size and 0 <= y < canvas_size:\n",
        "        canvas[y, x] = 0  # Erase by setting the cell to 0 (white)\n",
        "    display_canvas()\n",
        "\n",
        "# Interactive widget to control eraser position\n",
        "interact(erase, x=(0, canvas_size-1), y=(0, canvas_size-1))\n"
      ],
      "metadata": {
        "colab": {
          "base_uri": "https://localhost:8080/",
          "height": 596,
          "referenced_widgets": [
            "9c1aa2388f524ffb852248c06ed1abe2",
            "f848c9252ee54e47b3508bf9e5720bec",
            "780351c7c82e43f9a7ae7bfe3794fb3b",
            "7d3fc1118c7045078803669a8d691763",
            "1e290bb564fb4c48a7b520148fa08101",
            "a2751f6faf5c44be93aac90f01510900",
            "5032693a43074a9c8cd77a74667c4b0d",
            "5378c9206eb44a81bc8fc3f0b3c0c847",
            "09bafbfb3b7c4222a04c4a7256c52174",
            "4667bd2ffcdc419bbc98c46893f74946"
          ]
        },
        "id": "Q1yfl1rH6_mU",
        "outputId": "d3e32f6e-bf8b-465f-e717-7ee684455084"
      },
      "execution_count": 2,
      "outputs": [
        {
          "output_type": "display_data",
          "data": {
            "text/plain": [
              "interactive(children=(IntSlider(value=4, description='x', max=9), IntSlider(value=4, description='y', max=9), …"
            ],
            "application/vnd.jupyter.widget-view+json": {
              "version_major": 2,
              "version_minor": 0,
              "model_id": "9c1aa2388f524ffb852248c06ed1abe2"
            }
          },
          "metadata": {}
        },
        {
          "output_type": "execute_result",
          "data": {
            "text/plain": [
              "<function __main__.erase(x, y)>"
            ],
            "text/html": [
              "<div style=\"max-width:800px; border: 1px solid var(--colab-border-color);\"><style>\n",
              "      pre.function-repr-contents {\n",
              "        overflow-x: auto;\n",
              "        padding: 8px 12px;\n",
              "        max-height: 500px;\n",
              "      }\n",
              "\n",
              "      pre.function-repr-contents.function-repr-contents-collapsed {\n",
              "        cursor: pointer;\n",
              "        max-height: 100px;\n",
              "      }\n",
              "    </style>\n",
              "    <pre style=\"white-space: initial; background:\n",
              "         var(--colab-secondary-surface-color); padding: 8px 12px;\n",
              "         border-bottom: 1px solid var(--colab-border-color);\"><b>erase</b><br/>def erase(x, y)</pre><pre class=\"function-repr-contents function-repr-contents-collapsed\" style=\"\"><a class=\"filepath\" style=\"display:none\" href=\"#\">/content/&lt;ipython-input-2-188b67e43462&gt;</a>&lt;no docstring&gt;</pre></div>"
            ]
          },
          "metadata": {},
          "execution_count": 2
        }
      ]
    },
    {
      "cell_type": "markdown",
      "source": [
        "04_flowing_with_data_structures"
      ],
      "metadata": {
        "id": "UZbxMZyKRMg1"
      }
    },
    {
      "cell_type": "code",
      "source": [
        "def add_three_copies(lst, data):\n",
        "    # Use a loop to add three copies of 'data' to the list\n",
        "    for _ in range(3):\n",
        "        lst.append(data)\n",
        "\n",
        "# Get user input\n",
        "message = input(\"Enter a message to copy: \")\n",
        "\n",
        "# Create an empty list\n",
        "my_list = []\n",
        "\n",
        "# Show list before modification\n",
        "print(\"List before:\", my_list)\n",
        "\n",
        "# Call the function (modifies the list directly)\n",
        "add_three_copies(my_list, message)\n",
        "\n",
        "# Show list after modification\n",
        "print(\"List after:\", my_list)\n"
      ],
      "metadata": {
        "colab": {
          "base_uri": "https://localhost:8080/"
        },
        "id": "VOqxpLzgRITv",
        "outputId": "2cdd5ffd-f95f-4ed0-9016-313012d41ce6"
      },
      "execution_count": 3,
      "outputs": [
        {
          "output_type": "stream",
          "name": "stdout",
          "text": [
            "Enter a message to copy: Samra\n",
            "List before: []\n",
            "List after: ['Samra', 'Samra', 'Samra']\n"
          ]
        }
      ]
    },
    {
      "cell_type": "markdown",
      "source": [
        "05_get_first_element"
      ],
      "metadata": {
        "id": "sIYhP9hSSK1D"
      }
    },
    {
      "cell_type": "code",
      "source": [
        "def get_first_element(lst):\n",
        "    # Print the first element of the list\n",
        "    print(\"The first element is:\", lst[0])\n",
        "\n",
        "# Prompt user to enter the number of elements\n",
        "n = int(input(\"Enter the number of elements in the list: \"))\n",
        "\n",
        "# Initialize an empty list\n",
        "user_list = []\n",
        "\n",
        "# Get list elements from the user\n",
        "for i in range(n):\n",
        "    element = input(f\"Enter element {i+1}: \")\n",
        "    user_list.append(element)\n",
        "\n",
        "# Call the function to print the first element\n",
        "get_first_element(user_list)\n"
      ],
      "metadata": {
        "colab": {
          "base_uri": "https://localhost:8080/"
        },
        "id": "fWXv6XZsSHN7",
        "outputId": "069abac1-8cdd-4875-e8c4-0bfa0e8efe4d"
      },
      "execution_count": 4,
      "outputs": [
        {
          "output_type": "stream",
          "name": "stdout",
          "text": [
            "Enter the number of elements in the list: 5\n",
            "Enter element 1: 1\n",
            "Enter element 2: 2\n",
            "Enter element 3: 3\n",
            "Enter element 4: 4\n",
            "Enter element 5: 5\n",
            "The first element is: 1\n"
          ]
        }
      ]
    },
    {
      "cell_type": "markdown",
      "source": [
        "06_get_last_element"
      ],
      "metadata": {
        "id": "v8eu5H75SpWD"
      }
    },
    {
      "cell_type": "code",
      "source": [
        "def get_last_element(lst):\n",
        "    # Print the last element of the list\n",
        "    print(\"The last element is:\", lst[-1])\n",
        "\n",
        "# Prompt user to enter the number of elements\n",
        "n = int(input(\"Enter the number of elements in the list: \"))\n",
        "\n",
        "# Initialize an empty list\n",
        "user_list = []\n",
        "\n",
        "# Get list elements from the user\n",
        "for i in range(n):\n",
        "    element = input(f\"Enter element {i+1}: \")\n",
        "    user_list.append(element)\n",
        "\n",
        "# Call the function to print the last element\n",
        "get_last_element(user_list)\n"
      ],
      "metadata": {
        "colab": {
          "base_uri": "https://localhost:8080/"
        },
        "id": "0iJ2QOf3Sl1H",
        "outputId": "88c31847-1e1c-42f3-934d-cb8a336c1c55"
      },
      "execution_count": 5,
      "outputs": [
        {
          "output_type": "stream",
          "name": "stdout",
          "text": [
            "Enter the number of elements in the list: 3\n",
            "Enter element 1: a\n",
            "Enter element 2: b\n",
            "Enter element 3: c\n",
            "The last element is: c\n"
          ]
        }
      ]
    },
    {
      "cell_type": "markdown",
      "source": [
        "07_get_list"
      ],
      "metadata": {
        "id": "yi-o-g3OS74w"
      }
    },
    {
      "cell_type": "code",
      "source": [
        "def collect_values():\n",
        "    values = []  # Initialize an empty list\n",
        "\n",
        "    while True:\n",
        "        value = input(\"Enter a value: \")  # Prompt user for input\n",
        "        if value == \"\":  # Stop when user presses enter without input\n",
        "            break\n",
        "        values.append(value)  # Add input to the list\n",
        "\n",
        "    print(\"Here's the list:\", values)  # Print the final list\n",
        "\n",
        "# Run the function\n",
        "collect_values()\n"
      ],
      "metadata": {
        "colab": {
          "base_uri": "https://localhost:8080/"
        },
        "id": "8Kz7eMO6S7CB",
        "outputId": "345360fd-f3ee-478e-f686-da69a36953ed"
      },
      "execution_count": 6,
      "outputs": [
        {
          "output_type": "stream",
          "name": "stdout",
          "text": [
            "Enter a value: Samra\n",
            "Enter a value: Nimra\n",
            "Enter a value: Mazia\n",
            "Enter a value: Sid\n",
            "Enter a value: \n",
            "Here's the list: ['Samra', 'Nimra', 'Mazia', 'Sid']\n"
          ]
        }
      ]
    },
    {
      "cell_type": "markdown",
      "source": [
        "08_shorten"
      ],
      "metadata": {
        "id": "_C9zoZBhTQkg"
      }
    },
    {
      "cell_type": "code",
      "source": [
        "MAX_LENGTH = 3  # Set the maximum length of the list\n",
        "\n",
        "def shorten(lst):\n",
        "    # Remove elements until the list is MAX_LENGTH long\n",
        "    while len(lst) > MAX_LENGTH:\n",
        "        removed_item = lst.pop()  # Remove the last element\n",
        "        print(f\"Removed: {removed_item}\")  # Print the removed element\n",
        "\n",
        "# Main function to test the shorten function\n",
        "def main():\n",
        "    # Get the list from user input\n",
        "    n = int(input(\"Enter the number of elements in the list: \"))\n",
        "    user_list = [input(f\"Enter element {i+1}: \") for i in range(n)]\n",
        "\n",
        "    print(\"Original list:\", user_list)\n",
        "    shorten(user_list)\n",
        "    print(\"Shortened list:\", user_list)\n",
        "\n",
        "# Run the program\n",
        "main()\n"
      ],
      "metadata": {
        "colab": {
          "base_uri": "https://localhost:8080/"
        },
        "id": "yFJCgFHLTP6g",
        "outputId": "8bbcd86d-b224-4d67-c1f4-6ea20ab2a210"
      },
      "execution_count": 9,
      "outputs": [
        {
          "output_type": "stream",
          "name": "stdout",
          "text": [
            "Enter the number of elements in the list: 5\n",
            "Enter element 1: a\n",
            "Enter element 2: b\n",
            "Enter element 3: c\n",
            "Enter element 4: d\n",
            "Enter element 5: \n",
            "Original list: ['a', 'b', 'c', 'd', '']\n",
            "Removed: \n",
            "Removed: d\n",
            "Shortened list: ['a', 'b', 'c']\n"
          ]
        }
      ]
    },
    {
      "cell_type": "markdown",
      "source": [
        "01_print_events"
      ],
      "metadata": {
        "id": "joW4mGWeUo8G"
      }
    },
    {
      "cell_type": "code",
      "source": [
        "# Print the first 20 even numbers\n",
        "for i in range(20):\n",
        "    print(i * 2, end=\" \")  # Multiply index by 2 to get even numbers\n"
      ],
      "metadata": {
        "colab": {
          "base_uri": "https://localhost:8080/"
        },
        "id": "RuqIjU3oUoO6",
        "outputId": "cf623ea9-7d9e-4c4e-a7b1-646da7916b11"
      },
      "execution_count": 10,
      "outputs": [
        {
          "output_type": "stream",
          "name": "stdout",
          "text": [
            "0 2 4 6 8 10 12 14 16 18 20 22 24 26 28 30 32 34 36 38 "
          ]
        }
      ]
    },
    {
      "cell_type": "markdown",
      "source": [
        "02_international_voting_age"
      ],
      "metadata": {
        "id": "7Yr1eUoGXfi5"
      }
    },
    {
      "cell_type": "code",
      "source": [
        "def check_voting_eligibility(age):\n",
        "    # Voting age requirements\n",
        "    countries = {\n",
        "        \"Peturksbouipo\": 16,\n",
        "        \"Stanlau\": 25,\n",
        "        \"Mayengua\": 48\n",
        "    }\n",
        "\n",
        "    # Check eligibility for each country\n",
        "    for country, voting_age in countries.items():\n",
        "        if age >= voting_age:\n",
        "            print(f\"You can vote in {country} where the voting age is {voting_age}.\")\n",
        "        else:\n",
        "            print(f\"You cannot vote in {country} where the voting age is {voting_age}.\")\n",
        "\n",
        "# Prompt user for their age\n",
        "age = int(input(\"How old are you? \"))\n",
        "\n",
        "# Check voting eligibility\n",
        "check_voting_eligibility(age)\n"
      ],
      "metadata": {
        "colab": {
          "base_uri": "https://localhost:8080/"
        },
        "id": "MLBdhDT3XWyT",
        "outputId": "9a102d31-eea0-4672-e7ec-a28b36adfe2e"
      },
      "execution_count": 12,
      "outputs": [
        {
          "output_type": "stream",
          "name": "stdout",
          "text": [
            "How old are you? 48\n",
            "You can vote in Peturksbouipo where the voting age is 16.\n",
            "You can vote in Stanlau where the voting age is 25.\n",
            "You can vote in Mayengua where the voting age is 48.\n"
          ]
        }
      ]
    },
    {
      "cell_type": "markdown",
      "source": [
        "03_leap_year"
      ],
      "metadata": {
        "id": "bR8TKjIvYT1P"
      }
    },
    {
      "cell_type": "code",
      "source": [
        "def is_leap_year(year):\n",
        "    # Check leap year conditions\n",
        "    if (year % 4 == 0 and year % 100 != 0) or (year % 400 == 0):\n",
        "        return True\n",
        "    else:\n",
        "        return False\n",
        "\n",
        "# Get user input\n",
        "year = int(input(\"Enter a year: \"))\n",
        "\n",
        "# Check if it's a leap year and print the result\n",
        "if is_leap_year(year):\n",
        "    print(\"That's a leap year!\")\n",
        "else:\n",
        "    print(\"That's not a leap year.\")\n"
      ],
      "metadata": {
        "colab": {
          "base_uri": "https://localhost:8080/"
        },
        "id": "q4HOghVPYTCF",
        "outputId": "96151ee4-6636-426f-a19d-54151d3d8494"
      },
      "execution_count": 14,
      "outputs": [
        {
          "output_type": "stream",
          "name": "stdout",
          "text": [
            "Enter a year: 2025\n",
            "That's not a leap year.\n"
          ]
        }
      ]
    },
    {
      "cell_type": "markdown",
      "source": [
        "04_tall_enough_to_ride"
      ],
      "metadata": {
        "id": "b2HaEBeSYzbf"
      }
    },
    {
      "cell_type": "code",
      "source": [
        "def tall_enough():\n",
        "    MIN_HEIGHT = 50  # Minimum height requirement\n",
        "\n",
        "    while True:\n",
        "        height = input(\"How tall are you? \")  # Ask for height\n",
        "\n",
        "        if height == \"\":  # Stop if no input is given\n",
        "            print(\"Goodbye!\")\n",
        "            break\n",
        "\n",
        "        height = float(height)  # Convert input to a number\n",
        "\n",
        "        if height >= MIN_HEIGHT:\n",
        "            print(\"You're tall enough to ride!\")\n",
        "        else:\n",
        "            print(\"You're not tall enough to ride, but maybe next year!\")\n",
        "\n",
        "# Run the function\n",
        "tall_enough()\n"
      ],
      "metadata": {
        "colab": {
          "base_uri": "https://localhost:8080/"
        },
        "id": "T_Widt8lYy1d",
        "outputId": "b2372e4f-0d35-45fa-9155-9a6d21b17bcb"
      },
      "execution_count": 15,
      "outputs": [
        {
          "output_type": "stream",
          "name": "stdout",
          "text": [
            "How tall are you? 40\n",
            "You're not tall enough to ride, but maybe next year!\n",
            "How tall are you? 55\n",
            "You're tall enough to ride!\n",
            "How tall are you? \n",
            "Goodbye!\n"
          ]
        }
      ]
    },
    {
      "cell_type": "markdown",
      "source": [
        "05_random_numbers"
      ],
      "metadata": {
        "id": "unI_JK4KZm3o"
      }
    },
    {
      "cell_type": "code",
      "source": [
        "import random\n",
        "\n",
        "# Generate and print 10 random numbers in the range 1 to 100\n",
        "for _ in range(10):\n",
        "    print(random.randint(1, 100), end=\" \")\n"
      ],
      "metadata": {
        "colab": {
          "base_uri": "https://localhost:8080/"
        },
        "id": "a9j4KduTZmUg",
        "outputId": "92668a5c-140b-400e-e040-be8192755571"
      },
      "execution_count": 17,
      "outputs": [
        {
          "output_type": "stream",
          "name": "stdout",
          "text": [
            "72 64 21 96 27 95 69 80 62 22 "
          ]
        }
      ]
    },
    {
      "cell_type": "markdown",
      "source": [
        "00_count_nums"
      ],
      "metadata": {
        "id": "s_0MUnD_Z-op"
      }
    },
    {
      "cell_type": "code",
      "source": [
        "def count_numbers():\n",
        "    number_count = {}  # Dictionary to store number and its count\n",
        "\n",
        "    while True:\n",
        "        # Ask the user for a number or press enter to stop\n",
        "        num = input(\"Enter a number: \")\n",
        "\n",
        "        # If input is empty, stop the loop\n",
        "        if num == \"\":\n",
        "            break\n",
        "\n",
        "        # Convert the input to an integer\n",
        "        num = int(num)\n",
        "\n",
        "        # Increment the count for the number in the dictionary\n",
        "        if num in number_count:\n",
        "            number_count[num] += 1\n",
        "        else:\n",
        "            number_count[num] = 1\n",
        "\n",
        "    # Print the counts of each number\n",
        "    for number, count in number_count.items():\n",
        "        print(f\"{number} appears {count} times.\")\n",
        "\n",
        "# Run the function\n",
        "count_numbers()\n"
      ],
      "metadata": {
        "colab": {
          "base_uri": "https://localhost:8080/"
        },
        "id": "kD-UPgxgZ99M",
        "outputId": "44538c3e-1c65-4d55-e740-68068da768f3"
      },
      "execution_count": 18,
      "outputs": [
        {
          "output_type": "stream",
          "name": "stdout",
          "text": [
            "Enter a number: 4\n",
            "Enter a number: 4\n",
            "Enter a number: 4\n",
            "Enter a number: 7\n",
            "Enter a number: 8\n",
            "Enter a number: 0\n",
            "Enter a number: 0\n",
            "Enter a number: \n",
            "4 appears 3 times.\n",
            "7 appears 1 times.\n",
            "8 appears 1 times.\n",
            "0 appears 2 times.\n"
          ]
        }
      ]
    },
    {
      "cell_type": "markdown",
      "source": [
        "01_phonebook"
      ],
      "metadata": {
        "id": "lkAfDdfyaZ88"
      }
    },
    {
      "cell_type": "code",
      "source": [
        "def read_phone_numbers():\n",
        "    \"\"\"\n",
        "    Ask the user for names/numbers to story in a phonebook (dictionary).\n",
        "    Returns the phonebook.\n",
        "    \"\"\"\n",
        "    phonebook = {}                   # Create empty phonebook\n",
        "\n",
        "    while True:\n",
        "        name = input(\"Name: \")\n",
        "        if name == \"\":\n",
        "            break\n",
        "        number = input(\"Number: \")\n",
        "        phonebook[name] = number\n",
        "\n",
        "    return phonebook\n",
        "\n",
        "\n",
        "def print_phonebook(phonebook):\n",
        "    \"\"\"\n",
        "    Prints out all the names/numbers in the phonebook.\n",
        "    \"\"\"\n",
        "    for name in phonebook:\n",
        "        print(str(name) + \" -> \" + str(phonebook[name]))\n",
        "\n",
        "\n",
        "def lookup_numbers(phonebook):\n",
        "    \"\"\"\n",
        "    Allow the user to lookup phone numbers in the phonebook\n",
        "    by looking up the number associated with a name.\n",
        "    \"\"\"\n",
        "    while True:\n",
        "        name = input(\"Enter name to lookup: \")\n",
        "        if name == \"\":\n",
        "            break\n",
        "        if name not in phonebook:\n",
        "            print(name + \" is not in the phonebook\")\n",
        "        else:\n",
        "            print(phonebook[name])\n",
        "\n",
        "\n",
        "def main():\n",
        "    phonebook = read_phone_numbers()\n",
        "    print_phonebook(phonebook)\n",
        "    lookup_numbers(phonebook)\n",
        "\n",
        "\n",
        "# Python boilerplate.\n",
        "if __name__ == '__main__':\n",
        "    main()"
      ],
      "metadata": {
        "colab": {
          "base_uri": "https://localhost:8080/"
        },
        "id": "scFCq7o1aZbx",
        "outputId": "f83d8046-b184-492d-9bbb-80b317ce7a56"
      },
      "execution_count": 23,
      "outputs": [
        {
          "name": "stdout",
          "output_type": "stream",
          "text": [
            "Name: Samra\n",
            "Number: 09876543345\n",
            "Name: Nim\n",
            "Number: 98765432345\n",
            "Name: sam\n",
            "Number: \n",
            "Name: \n",
            "Samra -> 09876543345\n",
            "Nim -> 98765432345\n",
            "sam -> \n",
            "Enter name to lookup: Samra\n",
            "09876543345\n",
            "Enter name to lookup: \n"
          ]
        }
      ]
    },
    {
      "cell_type": "markdown",
      "source": [
        "02_pop_up_shop"
      ],
      "metadata": {
        "id": "4gEyGUy6cAS9"
      }
    },
    {
      "cell_type": "code",
      "source": [
        "def main():\n",
        "    fruits = {'apple': 1.5, 'durian': 50, 'jackfruit': 80, 'kiwi': 1, 'rambutan': 1.5, 'mango': 5}\n",
        "\n",
        "    total_cost = 0\n",
        "    for fruit_name in fruits:\n",
        "        price = fruits[fruit_name]\n",
        "        amount_bought = int(input(\"How many (\" + fruit_name + \") do you want to buy?: \"))\n",
        "        total_cost += (price * amount_bought)\n",
        "\n",
        "    print(\"Your total is $\" + str(total_cost))\n",
        "\n",
        "\n",
        "# There is no need to edit code beyond this point\n",
        "\n",
        "if __name__ == '__main__':\n",
        "    main()"
      ],
      "metadata": {
        "colab": {
          "base_uri": "https://localhost:8080/"
        },
        "id": "lKglvoOQb_sF",
        "outputId": "132db4ae-7f15-4300-9187-3a1884dcbacb"
      },
      "execution_count": 24,
      "outputs": [
        {
          "output_type": "stream",
          "name": "stdout",
          "text": [
            "How many (apple) do you want to buy?: 4\n",
            "How many (durian) do you want to buy?: 7\n",
            "How many (jackfruit) do you want to buy?: 0\n",
            "How many (kiwi) do you want to buy?: 7\n",
            "How many (rambutan) do you want to buy?: 3\n",
            "How many (mango) do you want to buy?: 2\n",
            "Your total is $377.5\n"
          ]
        }
      ]
    },
    {
      "cell_type": "markdown",
      "source": [
        "03_powerful_passwords"
      ],
      "metadata": {
        "id": "qyEF6QaEcZdA"
      }
    },
    {
      "cell_type": "code",
      "source": [
        "from hashlib import sha256\n",
        "\n",
        "def login(email, stored_logins, password_to_check):\n",
        "    \"\"\"\n",
        "    Returns True if the hash of the password we are checking matches the one in stored_logins\n",
        "    for a specific email. Otherwise, returns False.\n",
        "\n",
        "    email: the email we are checking the password for\n",
        "    stored_logins: a dictionary pointing from an email to its hashed password\n",
        "    password_to_check: a password we want to test alongside the email to login with\n",
        "    \"\"\"\n",
        "\n",
        "    if stored_logins[email] == hash_password(password_to_check):\n",
        "        return True\n",
        "\n",
        "    return False\n",
        "\n",
        "# There is no need to edit code beyond this point\n",
        "\n",
        "def hash_password(password):\n",
        "    \"\"\"\n",
        "    Takes in a password and returns the SHA256 hashed value for that specific password.\n",
        "\n",
        "    Inputs:\n",
        "        password: the password we want\n",
        "\n",
        "    Outputs:\n",
        "        the hashed form of the input password\n",
        "    \"\"\"\n",
        "\n",
        "    return sha256(password.encode()).hexdigest()\n",
        "\n",
        "def main():\n",
        "    # stored_logins is a dictionary with emails as keys and hashed passwords as values\n",
        "    stored_logins = {\n",
        "        \"example@gmail.com\": \"5e884898da28047151d0e56f8dc6292773603d0d6aabbdd62a11ef721d1542d8\",\n",
        "        \"code_in_placer@cip.org\": \"973607a4ae7b4cf7d96a100b0fb07e8519cc4f70441d41214a9f811577bb06cc\",\n",
        "        \"student@stanford.edu\": \"882c6df720fd99f5eebb1581a1cf975625cea8a160283011c0b9512bb56c95fb\"\n",
        "    }\n",
        "\n",
        "    print(login(\"example@gmail.com\", stored_logins, \"word\"))\n",
        "    print(login(\"example@gmail.com\", stored_logins, \"password\"))\n",
        "\n",
        "    print(login(\"code_in_placer@cip.org\", stored_logins, \"Karel\"))\n",
        "    print(login(\"code_in_placer@cip.org\", stored_logins, \"karel\"))\n",
        "\n",
        "    print(login(\"student@stanford.edu\", stored_logins, \"password\"))\n",
        "    print(login(\"student@stanford.edu\", stored_logins, \"123!456?789\"))\n",
        "\n",
        "\n",
        "if __name__ == '__main__':\n",
        "    main()"
      ],
      "metadata": {
        "colab": {
          "base_uri": "https://localhost:8080/"
        },
        "id": "NgJ77mJXcYuU",
        "outputId": "5ed7e03a-db13-4d08-9b73-5e60e7b8a4ed"
      },
      "execution_count": 25,
      "outputs": [
        {
          "output_type": "stream",
          "name": "stdout",
          "text": [
            "False\n",
            "True\n",
            "False\n",
            "True\n",
            "False\n",
            "True\n"
          ]
        }
      ]
    },
    {
      "cell_type": "markdown",
      "source": [
        "00_guess_my_number"
      ],
      "metadata": {
        "id": "6LSQ0wCbdb7L"
      }
    },
    {
      "cell_type": "code",
      "source": [
        "import random\n",
        "\n",
        "def guess_my_number():\n",
        "    # The computer picks a random number between 0 and 99\n",
        "    number_to_guess = random.randint(0, 99)\n",
        "\n",
        "    # Start the game and prompt the user for guesses\n",
        "    print(\"I am thinking of a number between 0 and 99...\")\n",
        "\n",
        "    while True:\n",
        "        # Get the user's guess\n",
        "        guess = int(input(\"Enter a guess: \"))\n",
        "\n",
        "        # Check if the guess is too high, too low, or correct\n",
        "        if guess < number_to_guess:\n",
        "            print(\"Your guess is too low\")\n",
        "        elif guess > number_to_guess:\n",
        "            print(\"Your guess is too high\")\n",
        "        else:\n",
        "            print(f\"Congrats! The number was: {number_to_guess}\")\n",
        "            break  # Exit the loop when the correct guess is made\n",
        "\n",
        "# Start the game\n",
        "if __name__ == \"__main__\":\n",
        "    guess_my_number()\n"
      ],
      "metadata": {
        "colab": {
          "base_uri": "https://localhost:8080/"
        },
        "id": "4BXKv1Lidayv",
        "outputId": "d59123bb-0782-4822-b105-ca0fc31cd9b3"
      },
      "execution_count": 26,
      "outputs": [
        {
          "output_type": "stream",
          "name": "stdout",
          "text": [
            "I am thinking of a number between 0 and 99...\n",
            "Enter a guess: 6\n",
            "Your guess is too low\n",
            "Enter a guess: 78\n",
            "Your guess is too high\n",
            "Enter a guess: 56\n",
            "Your guess is too low\n",
            "Enter a guess: 67\n",
            "Your guess is too low\n",
            "Enter a guess: 50\n",
            "Your guess is too low\n",
            "Enter a guess: 70\n",
            "Congrats! The number was: 70\n"
          ]
        }
      ]
    },
    {
      "cell_type": "markdown",
      "source": [
        "01_fibonacci"
      ],
      "metadata": {
        "id": "znZLVNRmfWYV"
      }
    },
    {
      "cell_type": "code",
      "source": [
        "MAX_TERM_VALUE : int = 10000\n",
        "\n",
        "def main():\n",
        "    curr_term = 0  # The 0th Fibonacci Number\n",
        "    next_term = 1  # The 1st Fibonacci Number\n",
        "    while curr_term <= MAX_TERM_VALUE:\n",
        "        print(curr_term)\n",
        "        term_after_next = curr_term + next_term\n",
        "        curr_term = next_term\n",
        "        next_term = term_after_next\n",
        "\n",
        "\n",
        "# There is no need to edit code beyond this point\n",
        "\n",
        "if __name__ == '__main__':\n",
        "    main()"
      ],
      "metadata": {
        "colab": {
          "base_uri": "https://localhost:8080/"
        },
        "id": "3ivkOa40fVyl",
        "outputId": "ecdf981f-4d44-4d5d-b0c9-3382e9832432"
      },
      "execution_count": 27,
      "outputs": [
        {
          "output_type": "stream",
          "name": "stdout",
          "text": [
            "0\n",
            "1\n",
            "1\n",
            "2\n",
            "3\n",
            "5\n",
            "8\n",
            "13\n",
            "21\n",
            "34\n",
            "55\n",
            "89\n",
            "144\n",
            "233\n",
            "377\n",
            "610\n",
            "987\n",
            "1597\n",
            "2584\n",
            "4181\n",
            "6765\n"
          ]
        }
      ]
    },
    {
      "cell_type": "markdown",
      "source": [
        "02_print_events"
      ],
      "metadata": {
        "id": "O3k775wygycu"
      }
    },
    {
      "cell_type": "code",
      "source": [
        "def main():\n",
        "    # This for-loop start at 0 and counts up to 19 (for a total of 20 numbers)\n",
        "    for i in range(20):\n",
        "        print(i * 2)  # Use the 'i' value inside the for-loop\n",
        "\n",
        "# Call the main function when \"run\", no need to edit anything below!\n",
        "if __name__ == \"__main__\":\n",
        "    main()"
      ],
      "metadata": {
        "colab": {
          "base_uri": "https://localhost:8080/"
        },
        "id": "BZL7Qv1pgxor",
        "outputId": "8e395e26-5665-4b31-f300-1a508a21f789"
      },
      "execution_count": 28,
      "outputs": [
        {
          "output_type": "stream",
          "name": "stdout",
          "text": [
            "0\n",
            "2\n",
            "4\n",
            "6\n",
            "8\n",
            "10\n",
            "12\n",
            "14\n",
            "16\n",
            "18\n",
            "20\n",
            "22\n",
            "24\n",
            "26\n",
            "28\n",
            "30\n",
            "32\n",
            "34\n",
            "36\n",
            "38\n"
          ]
        }
      ]
    },
    {
      "cell_type": "markdown",
      "source": [
        "03_wholesome_machine"
      ],
      "metadata": {
        "id": "LUurzsozhNfa"
      }
    },
    {
      "cell_type": "code",
      "source": [
        "AFFIRMATION : str = \"I am capable of doing anything I put my mind to.\"\n",
        "\n",
        "def main():\n",
        "    print(\"Please type the following affirmation: \" + AFFIRMATION)\n",
        "\n",
        "    user_feedback = input()  # Get user's input\n",
        "    while user_feedback != AFFIRMATION:  # While the user's input isn't the affirmation\n",
        "        # Tell the user that they did not type the affirmation correctly\n",
        "        print(\"That was not the affirmation.\")\n",
        "\n",
        "        # Ask the user to type the affirmation again!\n",
        "        print(\"Please type the following affirmation: \" + AFFIRMATION)\n",
        "        user_feedback = input()\n",
        "\n",
        "    print(\"That's right! :)\")\n",
        "\n",
        "\n",
        "# There is no need to edit code beyond this point\n",
        "\n",
        "if __name__ == '__main__':\n",
        "    main()"
      ],
      "metadata": {
        "colab": {
          "base_uri": "https://localhost:8080/"
        },
        "id": "83HxDtQlhM7O",
        "outputId": "78123fdd-0616-4587-b656-ef92e0640fa6"
      },
      "execution_count": 29,
      "outputs": [
        {
          "output_type": "stream",
          "name": "stdout",
          "text": [
            "Please type the following affirmation: I am capable of doing anything I put my mind to.\n",
            "I am capable\n",
            "That was not the affirmation.\n",
            "Please type the following affirmation: I am capable of doing anything I put my mind to.\n",
            "I am Capable of doing anything i put my mind to\n",
            "That was not the affirmation.\n",
            "Please type the following affirmation: I am capable of doing anything I put my mind to.\n",
            "I am capable of doing anything I put my mind to.\n",
            "That's right! :)\n"
          ]
        }
      ]
    },
    {
      "cell_type": "markdown",
      "source": [
        "04_liftoff"
      ],
      "metadata": {
        "id": "Xjk1DLn2hsf9"
      }
    },
    {
      "cell_type": "code",
      "source": [
        "def countdown():\n",
        "    # Loop from 10 to 1, counting down\n",
        "    for i in range(10, 0, -1):\n",
        "        print(i, end=\" \")\n",
        "    print(\"Liftoff!\")  # Print \"Liftoff!\" after the countdown\n",
        "\n",
        "# Call the countdown function\n",
        "if __name__ == \"__main__\":\n",
        "    countdown()\n"
      ],
      "metadata": {
        "colab": {
          "base_uri": "https://localhost:8080/"
        },
        "id": "aAfi21yJhr4a",
        "outputId": "1ec31491-e972-4f17-c73b-7c089059f94f"
      },
      "execution_count": 30,
      "outputs": [
        {
          "output_type": "stream",
          "name": "stdout",
          "text": [
            "10 9 8 7 6 5 4 3 2 1 Liftoff!\n"
          ]
        }
      ]
    },
    {
      "cell_type": "markdown",
      "source": [
        "05_double_it"
      ],
      "metadata": {
        "id": "QE2TXFX7iFze"
      }
    },
    {
      "cell_type": "code",
      "source": [
        "def double_until_hundred():\n",
        "    # Ask the user to enter a number\n",
        "    curr_value = int(input(\"Enter a number: \"))\n",
        "\n",
        "    # Repeat doubling the value until it is 100 or greater\n",
        "    while curr_value < 100:\n",
        "        curr_value = curr_value * 2\n",
        "        print(curr_value, end=\" \")\n",
        "\n",
        "# Call the function to run the program\n",
        "if __name__ == \"__main__\":\n",
        "    double_until_hundred()\n",
        "\n"
      ],
      "metadata": {
        "colab": {
          "base_uri": "https://localhost:8080/"
        },
        "id": "o50-4_qdiFRb",
        "outputId": "c118b9b7-662c-498e-a2d7-500c52225354"
      },
      "execution_count": 31,
      "outputs": [
        {
          "output_type": "stream",
          "name": "stdout",
          "text": [
            "Enter a number: 6\n",
            "12 24 48 96 192 "
          ]
        }
      ]
    }
  ]
}