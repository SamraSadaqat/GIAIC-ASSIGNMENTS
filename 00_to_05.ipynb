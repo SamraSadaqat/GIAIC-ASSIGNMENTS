{
  "nbformat": 4,
  "nbformat_minor": 0,
  "metadata": {
    "colab": {
      "provenance": [],
      "authorship_tag": "ABX9TyM+repDYV6OiYzNuAbbKCjX",
      "include_colab_link": true
    },
    "kernelspec": {
      "name": "python3",
      "display_name": "Python 3"
    },
    "language_info": {
      "name": "python"
    }
  },
  "cells": [
    {
      "cell_type": "markdown",
      "metadata": {
        "id": "view-in-github",
        "colab_type": "text"
      },
      "source": [
        "<a href=\"https://colab.research.google.com/github/SamraSadaqat/GIAIC-ASSIGNMENTS/blob/main/00_to_05.ipynb\" target=\"_parent\"><img src=\"https://colab.research.google.com/assets/colab-badge.svg\" alt=\"Open In Colab\"/></a>"
      ]
    },
    {
      "cell_type": "markdown",
      "source": [
        "\n",
        "01_add_two_numbers\n"
      ],
      "metadata": {
        "id": "SEzkkxjj8JzL"
      }
    },
    {
      "cell_type": "code",
      "execution_count": null,
      "metadata": {
        "id": "OowwdGy31Ucc"
      },
      "outputs": [],
      "source": [
        "def main():\n",
        "    # Prompt user for the first number\n",
        "    num1 = int(input(\"Enter the first number: \"))\n",
        "\n",
        "    # Prompt user for the second number\n",
        "    num2 = int(input(\"Enter the second number: \"))\n",
        "\n",
        "    # Calculate the sum\n",
        "    total = num1 + num2\n",
        "\n",
        "    # Print the result\n",
        "    print(f\"The sum of {num1} and {num2} is {total}.\")\n",
        "\n",
        "# Run the main function\n",
        "if __name__ == \"__main__\":\n",
        "    main()\n"
      ]
    },
    {
      "cell_type": "markdown",
      "source": [
        "02_agreement_bot"
      ],
      "metadata": {
        "id": "eFBuwP688UQP"
      }
    },
    {
      "cell_type": "code",
      "source": [
        "def main():\n",
        "    # Prompt user for their favorite animal\n",
        "    favorite_animal = input(\"What's your favorite animal? \")\n",
        "\n",
        "    # Respond with the same favorite animal\n",
        "    print(f\"My favorite animal is also {favorite_animal}!\")\n",
        "\n",
        "# Run the main function\n",
        "if __name__ == \"__main__\":\n",
        "    main()\n"
      ],
      "metadata": {
        "id": "xpQlUDWP2dMZ"
      },
      "execution_count": null,
      "outputs": []
    },
    {
      "cell_type": "markdown",
      "source": [
        "03_fahrenheit_to_celsius"
      ],
      "metadata": {
        "id": "Zfav9TWC8YTQ"
      }
    },
    {
      "cell_type": "code",
      "source": [
        "def main():\n",
        "    # Prompt user for temperature in Fahrenheit\n",
        "    degrees_fahrenheit = float(input(\"Enter temperature in Fahrenheit: \"))\n",
        "\n",
        "    # Convert Fahrenheit to Celsius\n",
        "    degrees_celsius = (degrees_fahrenheit - 32) * 5.0 / 9.0\n",
        "\n",
        "    # Print the result\n",
        "    print(f\"Temperature: {degrees_fahrenheit:.1f}F = {degrees_celsius}C\")\n",
        "\n",
        "# Run the main function\n",
        "if __name__ == \"__main__\":\n",
        "    main()\n"
      ],
      "metadata": {
        "id": "gzmnDw0I6uPO"
      },
      "execution_count": null,
      "outputs": []
    },
    {
      "cell_type": "markdown",
      "source": [
        "04_how_old_are_they"
      ],
      "metadata": {
        "id": "sJZyOXtH8fSj"
      }
    },
    {
      "cell_type": "code",
      "source": [
        "def main():\n",
        "    # Define ages based on the given riddle\n",
        "    Anton = 21\n",
        "    Beth = Anton + 6\n",
        "    Chen = Beth + 20\n",
        "    Drew = Chen + Anton\n",
        "    Ethan = Chen\n",
        "\n",
        "    # Print names and ages\n",
        "    print(f\"Anton is {Anton}\")\n",
        "    print(f\"Beth is {Beth}\")\n",
        "    print(f\"Chen is {Chen}\")\n",
        "    print(f\"Drew is {Drew}\")\n",
        "    print(f\"Ethan is {Ethan}\")\n",
        "\n",
        "# Run the main function\n",
        "if __name__ == \"__main__\":\n",
        "    main()\n"
      ],
      "metadata": {
        "id": "zXNVeWaN8eqQ"
      },
      "execution_count": null,
      "outputs": []
    },
    {
      "cell_type": "markdown",
      "source": [
        "05_triangle_perimeter"
      ],
      "metadata": {
        "id": "YwLAc6EBz5BF"
      }
    },
    {
      "cell_type": "code",
      "source": [
        "def main():\n",
        "    # Prompt user for the lengths of the triangle sides\n",
        "    side1 = float(input(\"What is the length of side 1? \"))\n",
        "    side2 = float(input(\"What is the length of side 2? \"))\n",
        "    side3 = float(input(\"What is the length of side 3? \"))\n",
        "\n",
        "    # Calculate the perimeter\n",
        "    perimeter = side1 + side2 + side3\n",
        "\n",
        "    # Print the result\n",
        "    print(f\"The perimeter of the triangle is {perimeter}\")\n",
        "\n",
        "# Run the main function\n",
        "if __name__ == \"__main__\":\n",
        "    main()\n"
      ],
      "metadata": {
        "id": "wuyNCUQiz34a"
      },
      "execution_count": null,
      "outputs": []
    },
    {
      "cell_type": "markdown",
      "source": [
        "06_square_number"
      ],
      "metadata": {
        "id": "UT33k3H_0dDL"
      }
    },
    {
      "cell_type": "code",
      "source": [
        "def main():\n",
        "    # Prompt user for a number\n",
        "    number = float(input(\"Type a number to see its square: \"))\n",
        "\n",
        "    # Calculate the square\n",
        "    square = number * number\n",
        "\n",
        "    # Print the result\n",
        "    print(f\"{number} squared is {square}\")\n",
        "\n",
        "# Run the main function\n",
        "if __name__ == \"__main__\":\n",
        "    main()\n"
      ],
      "metadata": {
        "id": "xSkSclJ10clX"
      },
      "execution_count": null,
      "outputs": []
    },
    {
      "cell_type": "markdown",
      "source": [
        "01_dicesimulator"
      ],
      "metadata": {
        "id": "dnxaUr871dDZ"
      }
    },
    {
      "cell_type": "code",
      "source": [
        "import random\n",
        "\n",
        "def roll_dice():\n",
        "    # Roll two dice and return their values\n",
        "    die1 = random.randint(1, 6)\n",
        "    die2 = random.randint(1, 6)\n",
        "    return die1, die2\n",
        "\n",
        "def main():\n",
        "    # Simulate rolling two dice three times\n",
        "    for i in range(1, 4):\n",
        "        die1, die2 = roll_dice()\n",
        "        print(f\"Roll {i}: Die 1 = {die1}, Die 2 = {die2}\")\n",
        "\n",
        "# Run the main function\n",
        "if __name__ == \"__main__\":\n",
        "    main()\n"
      ],
      "metadata": {
        "id": "3NbA97pn1eEv"
      },
      "execution_count": null,
      "outputs": []
    },
    {
      "cell_type": "markdown",
      "source": [
        "02_e=mc2"
      ],
      "metadata": {
        "id": "zlXtfXiy155q"
      }
    },
    {
      "cell_type": "code",
      "source": [
        "def main():\n",
        "    # Define the speed of light constant\n",
        "    C = 299792458  # m/s\n",
        "\n",
        "    while True:\n",
        "        # Prompt user for mass in kilograms\n",
        "        mass = float(input(\"Enter kilos of mass: \"))\n",
        "\n",
        "        # Calculate energy using Einstein's equation\n",
        "        energy = mass * C**2\n",
        "\n",
        "        # Print the result\n",
        "        print(\"\\ne = m * C^2...\")\n",
        "        print(f\"m = {mass} kg\")\n",
        "        print(f\"C = {C} m/s\")\n",
        "        print(f\"{energy} joules of energy!\\n\")\n",
        "\n",
        "# Run the main function\n",
        "if __name__ == \"__main__\":\n",
        "    main()\n"
      ],
      "metadata": {
        "id": "Hm1iEDsi15ac"
      },
      "execution_count": null,
      "outputs": []
    },
    {
      "cell_type": "markdown",
      "source": [
        "03_feet_to_inches"
      ],
      "metadata": {
        "id": "wLoqsgmR2hYH"
      }
    },
    {
      "cell_type": "code",
      "source": [
        "def main():\n",
        "    # Constant for inches per foot\n",
        "    INCHES_PER_FOOT = 12\n",
        "\n",
        "    # Prompt user for length in feet\n",
        "    feet = float(input(\"Enter length in feet: \"))\n",
        "\n",
        "    # Convert feet to inches\n",
        "    inches = feet * INCHES_PER_FOOT\n",
        "\n",
        "    # Determine singular or plural form\n",
        "    unit = \"foot\" if feet == 1 else \"feet\"\n",
        "\n",
        "    # Print the result\n",
        "    print(f\"{feet} {unit} is equal to {inches} inches.\")\n",
        "\n",
        "# Run the main function\n",
        "if __name__ == \"__main__\":\n",
        "    main()\n"
      ],
      "metadata": {
        "id": "p6gS8IYg2ZBo"
      },
      "execution_count": null,
      "outputs": []
    },
    {
      "cell_type": "markdown",
      "source": [
        "04_pythagorean_theorem"
      ],
      "metadata": {
        "id": "amS6AzJD4KdZ"
      }
    },
    {
      "cell_type": "code",
      "source": [
        "import math\n",
        "\n",
        "def main():\n",
        "    # Prompt user for the lengths of the two perpendicular sides\n",
        "    ab = float(input(\"Enter the length of AB: \"))\n",
        "    ac = float(input(\"Enter the length of AC: \"))\n",
        "\n",
        "    # Calculate the hypotenuse using the Pythagorean theorem\n",
        "    bc = math.sqrt(ab**2 + ac**2)\n",
        "\n",
        "    # Print the result\n",
        "    print(f\"The length of BC (the hypotenuse) is: {bc}\")\n",
        "\n",
        "# Run the main function\n",
        "if __name__ == \"__main__\":\n",
        "    main()\n"
      ],
      "metadata": {
        "id": "JY1V45hP4HHS"
      },
      "execution_count": null,
      "outputs": []
    },
    {
      "cell_type": "markdown",
      "source": [
        "05_remainder_division"
      ],
      "metadata": {
        "id": "foBdjvYl4hc-"
      }
    },
    {
      "cell_type": "code",
      "source": [
        "def main():\n",
        "    # Prompt user for two integers\n",
        "    dividend = int(input(\"Please enter an integer to be divided: \"))\n",
        "    divisor = int(input(\"Please enter an integer to divide by: \"))\n",
        "\n",
        "    # Perform division and find remainder\n",
        "    quotient = dividend // divisor\n",
        "    remainder = dividend % divisor\n",
        "\n",
        "    # Print the result\n",
        "    print(f\"The result of this division is {quotient} with a remainder of {remainder}\")\n",
        "\n",
        "# Run the main function\n",
        "if __name__ == \"__main__\":\n",
        "    main()\n"
      ],
      "metadata": {
        "id": "Fkttkrbs4g3a"
      },
      "execution_count": null,
      "outputs": []
    },
    {
      "cell_type": "markdown",
      "source": [
        "06_rolldice"
      ],
      "metadata": {
        "id": "S9GYrODY4ya5"
      }
    },
    {
      "cell_type": "code",
      "source": [
        "import random\n",
        "\n",
        "def roll_dice():\n",
        "    # Roll two dice and return their values\n",
        "    die1 = random.randint(1, 6)\n",
        "    die2 = random.randint(1, 6)\n",
        "    return die1, die2\n",
        "\n",
        "def main():\n",
        "    # Roll two dice\n",
        "    die1, die2 = roll_dice()\n",
        "    total = die1 + die2\n",
        "\n",
        "    # Print the results\n",
        "    print(f\"Die 1: {die1}\")\n",
        "    print(f\"Die 2: {die2}\")\n",
        "    print(f\"Total: {total}\")\n",
        "\n",
        "# Run the main function\n",
        "if __name__ == \"__main__\":\n",
        "    main()\n"
      ],
      "metadata": {
        "id": "j0vRh5ee4vhR"
      },
      "execution_count": null,
      "outputs": []
    },
    {
      "cell_type": "markdown",
      "source": [
        "06_seconds_in_year"
      ],
      "metadata": {
        "id": "Z2AYS8cL5Ewy"
      }
    },
    {
      "cell_type": "code",
      "source": [
        "def main():\n",
        "    # Define constants\n",
        "    DAYS_IN_YEAR = 365\n",
        "    HOURS_IN_DAY = 24\n",
        "    MINUTES_IN_HOUR = 60\n",
        "    SECONDS_IN_MINUTE = 60\n",
        "\n",
        "    # Calculate seconds in a year\n",
        "    seconds_in_year = DAYS_IN_YEAR * HOURS_IN_DAY * MINUTES_IN_HOUR * SECONDS_IN_MINUTE\n",
        "\n",
        "    # Print the result\n",
        "    print(f\"There are {seconds_in_year} seconds in a year!\")\n",
        "\n",
        "# Run the main function\n",
        "if __name__ == \"__main__\":\n",
        "    main()\n"
      ],
      "metadata": {
        "id": "vxgRDpDR5CSs"
      },
      "execution_count": null,
      "outputs": []
    },
    {
      "cell_type": "markdown",
      "source": [
        "07_tiny_mad_lib"
      ],
      "metadata": {
        "id": "OC3q9NIa5Zw4"
      }
    },
    {
      "cell_type": "code",
      "source": [
        "def main():\n",
        "    # Prompt user for an adjective, noun, and verb\n",
        "    adjective = input(\"Please type an adjective and press enter. \")\n",
        "    noun = input(\"Please type a noun and press enter. \")\n",
        "    verb = input(\"Please type a verb and press enter. \")\n",
        "\n",
        "    # Create the sentence\n",
        "    SENTENCE_START = \"Code in Place is fun. I learned to program and used Python to make my\"\n",
        "    sentence = f\"{SENTENCE_START} {adjective} {noun} {verb}!\"\n",
        "\n",
        "    # Print the result\n",
        "    print(sentence)\n",
        "\n",
        "# Run the main function\n",
        "if __name__ == \"__main__\":\n",
        "    main()\n"
      ],
      "metadata": {
        "id": "vSEZmpfS5ZQf"
      },
      "execution_count": null,
      "outputs": []
    },
    {
      "cell_type": "markdown",
      "source": [
        "\n",
        "01_add_many_number"
      ],
      "metadata": {
        "id": "x1grh_V56Kcq"
      }
    },
    {
      "cell_type": "code",
      "source": [
        "def sum_numbers(numbers):\n",
        "    # Calculate the sum of the list of numbers\n",
        "    return sum(numbers)\n",
        "\n",
        "# Example usage\n",
        "numbers_list = [1, 2, 3, 4, 5,8]\n",
        "result = sum_numbers(numbers_list)\n",
        "print(f\"The sum of the numbers is: {result}\")\n"
      ],
      "metadata": {
        "id": "xpjoi8jm6BUT"
      },
      "execution_count": null,
      "outputs": []
    },
    {
      "cell_type": "markdown",
      "source": [
        "02_double_list"
      ],
      "metadata": {
        "id": "nd4FuNYE6gxb"
      }
    },
    {
      "cell_type": "code",
      "source": [
        "def double_numbers(numbers):\n",
        "    # Double each number in the list using a list comprehension\n",
        "    return [num * 2 for num in numbers]\n",
        "\n",
        "# Example usage\n",
        "numbers = [1, 2, 3, 4,8]\n",
        "doubled_numbers = double_numbers(numbers)\n",
        "print(f\"Doubled numbers: {doubled_numbers}\")\n"
      ],
      "metadata": {
        "id": "LF2p-AUc6hdS"
      },
      "execution_count": null,
      "outputs": []
    },
    {
      "cell_type": "markdown",
      "source": [
        "03_erase_canvas"
      ],
      "metadata": {
        "id": "wRJV_H4d7AJv"
      }
    },
    {
      "cell_type": "code",
      "source": [
        "import numpy as np\n",
        "import matplotlib.pyplot as plt\n",
        "from ipywidgets import interact\n",
        "\n",
        "# Create a blank grid (canvas) of blue cells\n",
        "canvas_size = 10  # 10x10 grid\n",
        "canvas = np.ones((canvas_size, canvas_size))\n",
        "\n",
        "# Function to display the canvas\n",
        "def display_canvas():\n",
        "    fig, ax = plt.subplots(figsize=(5, 5))\n",
        "    ax.imshow(canvas, cmap='Blues', interpolation='nearest')\n",
        "    ax.set_xticks(np.arange(-0.5, canvas_size, 1), minor=True)\n",
        "    ax.set_yticks(np.arange(-0.5, canvas_size, 1), minor=True)\n",
        "    ax.grid(which='minor', color='black', linestyle='-', linewidth=2)\n",
        "    plt.gca().invert_yaxis()  # Invert y-axis for correct display\n",
        "    plt.show()\n",
        "\n",
        "# Function to erase part of the canvas\n",
        "def erase(x, y):\n",
        "    global canvas\n",
        "    if 0 <= x < canvas_size and 0 <= y < canvas_size:\n",
        "        canvas[y, x] = 0  # Erase by setting the cell to 0 (white)\n",
        "    display_canvas()\n",
        "\n",
        "# Interactive widget to control eraser position\n",
        "interact(erase, x=(0, canvas_size-1), y=(0, canvas_size-1))\n"
      ],
      "metadata": {
        "id": "Q1yfl1rH6_mU"
      },
      "execution_count": null,
      "outputs": []
    },
    {
      "cell_type": "markdown",
      "source": [
        "04_flowing_with_data_structures"
      ],
      "metadata": {
        "id": "UZbxMZyKRMg1"
      }
    },
    {
      "cell_type": "code",
      "source": [
        "def add_three_copies(lst, data):\n",
        "    # Use a loop to add three copies of 'data' to the list\n",
        "    for _ in range(3):\n",
        "        lst.append(data)\n",
        "\n",
        "# Get user input\n",
        "message = input(\"Enter a message to copy: \")\n",
        "\n",
        "# Create an empty list\n",
        "my_list = []\n",
        "\n",
        "# Show list before modification\n",
        "print(\"List before:\", my_list)\n",
        "\n",
        "# Call the function (modifies the list directly)\n",
        "add_three_copies(my_list, message)\n",
        "\n",
        "# Show list after modification\n",
        "print(\"List after:\", my_list)\n"
      ],
      "metadata": {
        "id": "VOqxpLzgRITv"
      },
      "execution_count": null,
      "outputs": []
    },
    {
      "cell_type": "markdown",
      "source": [
        "05_get_first_element"
      ],
      "metadata": {
        "id": "sIYhP9hSSK1D"
      }
    },
    {
      "cell_type": "code",
      "source": [
        "def get_first_element(lst):\n",
        "    # Print the first element of the list\n",
        "    print(\"The first element is:\", lst[0])\n",
        "\n",
        "# Prompt user to enter the number of elements\n",
        "n = int(input(\"Enter the number of elements in the list: \"))\n",
        "\n",
        "# Initialize an empty list\n",
        "user_list = []\n",
        "\n",
        "# Get list elements from the user\n",
        "for i in range(n):\n",
        "    element = input(f\"Enter element {i+1}: \")\n",
        "    user_list.append(element)\n",
        "\n",
        "# Call the function to print the first element\n",
        "get_first_element(user_list)\n"
      ],
      "metadata": {
        "id": "fWXv6XZsSHN7"
      },
      "execution_count": null,
      "outputs": []
    },
    {
      "cell_type": "markdown",
      "source": [
        "06_get_last_element"
      ],
      "metadata": {
        "id": "v8eu5H75SpWD"
      }
    },
    {
      "cell_type": "code",
      "source": [
        "def get_last_element(lst):\n",
        "    # Print the last element of the list\n",
        "    print(\"The last element is:\", lst[-1])\n",
        "\n",
        "# Prompt user to enter the number of elements\n",
        "n = int(input(\"Enter the number of elements in the list: \"))\n",
        "\n",
        "# Initialize an empty list\n",
        "user_list = []\n",
        "\n",
        "# Get list elements from the user\n",
        "for i in range(n):\n",
        "    element = input(f\"Enter element {i+1}: \")\n",
        "    user_list.append(element)\n",
        "\n",
        "# Call the function to print the last element\n",
        "get_last_element(user_list)\n"
      ],
      "metadata": {
        "id": "0iJ2QOf3Sl1H"
      },
      "execution_count": null,
      "outputs": []
    },
    {
      "cell_type": "markdown",
      "source": [
        "07_get_list"
      ],
      "metadata": {
        "id": "yi-o-g3OS74w"
      }
    },
    {
      "cell_type": "code",
      "source": [
        "def collect_values():\n",
        "    values = []  # Initialize an empty list\n",
        "\n",
        "    while True:\n",
        "        value = input(\"Enter a value: \")  # Prompt user for input\n",
        "        if value == \"\":  # Stop when user presses enter without input\n",
        "            break\n",
        "        values.append(value)  # Add input to the list\n",
        "\n",
        "    print(\"Here's the list:\", values)  # Print the final list\n",
        "\n",
        "# Run the function\n",
        "collect_values()\n"
      ],
      "metadata": {
        "id": "8Kz7eMO6S7CB"
      },
      "execution_count": null,
      "outputs": []
    },
    {
      "cell_type": "markdown",
      "source": [
        "08_shorten"
      ],
      "metadata": {
        "id": "_C9zoZBhTQkg"
      }
    },
    {
      "cell_type": "code",
      "source": [
        "MAX_LENGTH = 3  # Set the maximum length of the list\n",
        "\n",
        "def shorten(lst):\n",
        "    # Remove elements until the list is MAX_LENGTH long\n",
        "    while len(lst) > MAX_LENGTH:\n",
        "        removed_item = lst.pop()  # Remove the last element\n",
        "        print(f\"Removed: {removed_item}\")  # Print the removed element\n",
        "\n",
        "# Main function to test the shorten function\n",
        "def main():\n",
        "    # Get the list from user input\n",
        "    n = int(input(\"Enter the number of elements in the list: \"))\n",
        "    user_list = [input(f\"Enter element {i+1}: \") for i in range(n)]\n",
        "\n",
        "    print(\"Original list:\", user_list)\n",
        "    shorten(user_list)\n",
        "    print(\"Shortened list:\", user_list)\n",
        "\n",
        "# Run the program\n",
        "main()\n"
      ],
      "metadata": {
        "id": "yFJCgFHLTP6g"
      },
      "execution_count": null,
      "outputs": []
    },
    {
      "cell_type": "markdown",
      "source": [
        "01_print_events"
      ],
      "metadata": {
        "id": "joW4mGWeUo8G"
      }
    },
    {
      "cell_type": "code",
      "source": [
        "# Print the first 20 even numbers\n",
        "for i in range(20):\n",
        "    print(i * 2, end=\" \")  # Multiply index by 2 to get even numbers\n"
      ],
      "metadata": {
        "id": "RuqIjU3oUoO6"
      },
      "execution_count": null,
      "outputs": []
    },
    {
      "cell_type": "markdown",
      "source": [
        "02_international_voting_age"
      ],
      "metadata": {
        "id": "7Yr1eUoGXfi5"
      }
    },
    {
      "cell_type": "code",
      "source": [
        "def check_voting_eligibility(age):\n",
        "    # Voting age requirements\n",
        "    countries = {\n",
        "        \"Peturksbouipo\": 16,\n",
        "        \"Stanlau\": 25,\n",
        "        \"Mayengua\": 48\n",
        "    }\n",
        "\n",
        "    # Check eligibility for each country\n",
        "    for country, voting_age in countries.items():\n",
        "        if age >= voting_age:\n",
        "            print(f\"You can vote in {country} where the voting age is {voting_age}.\")\n",
        "        else:\n",
        "            print(f\"You cannot vote in {country} where the voting age is {voting_age}.\")\n",
        "\n",
        "# Prompt user for their age\n",
        "age = int(input(\"How old are you? \"))\n",
        "\n",
        "# Check voting eligibility\n",
        "check_voting_eligibility(age)\n"
      ],
      "metadata": {
        "id": "MLBdhDT3XWyT"
      },
      "execution_count": null,
      "outputs": []
    },
    {
      "cell_type": "markdown",
      "source": [
        "03_leap_year"
      ],
      "metadata": {
        "id": "bR8TKjIvYT1P"
      }
    },
    {
      "cell_type": "code",
      "source": [
        "def is_leap_year(year):\n",
        "    # Check leap year conditions\n",
        "    if (year % 4 == 0 and year % 100 != 0) or (year % 400 == 0):\n",
        "        return True\n",
        "    else:\n",
        "        return False\n",
        "\n",
        "# Get user input\n",
        "year = int(input(\"Enter a year: \"))\n",
        "\n",
        "# Check if it's a leap year and print the result\n",
        "if is_leap_year(year):\n",
        "    print(\"That's a leap year!\")\n",
        "else:\n",
        "    print(\"That's not a leap year.\")\n"
      ],
      "metadata": {
        "id": "q4HOghVPYTCF"
      },
      "execution_count": null,
      "outputs": []
    },
    {
      "cell_type": "markdown",
      "source": [
        "04_tall_enough_to_ride"
      ],
      "metadata": {
        "id": "b2HaEBeSYzbf"
      }
    },
    {
      "cell_type": "code",
      "source": [
        "def tall_enough():\n",
        "    MIN_HEIGHT = 50  # Minimum height requirement\n",
        "\n",
        "    while True:\n",
        "        height = input(\"How tall are you? \")  # Ask for height\n",
        "\n",
        "        if height == \"\":  # Stop if no input is given\n",
        "            print(\"Goodbye!\")\n",
        "            break\n",
        "\n",
        "        height = float(height)  # Convert input to a number\n",
        "\n",
        "        if height >= MIN_HEIGHT:\n",
        "            print(\"You're tall enough to ride!\")\n",
        "        else:\n",
        "            print(\"You're not tall enough to ride, but maybe next year!\")\n",
        "\n",
        "# Run the function\n",
        "tall_enough()\n"
      ],
      "metadata": {
        "id": "T_Widt8lYy1d"
      },
      "execution_count": null,
      "outputs": []
    },
    {
      "cell_type": "markdown",
      "source": [
        "05_random_numbers"
      ],
      "metadata": {
        "id": "unI_JK4KZm3o"
      }
    },
    {
      "cell_type": "code",
      "source": [
        "import random\n",
        "\n",
        "# Generate and print 10 random numbers in the range 1 to 100\n",
        "for _ in range(10):\n",
        "    print(random.randint(1, 100), end=\" \")\n"
      ],
      "metadata": {
        "id": "a9j4KduTZmUg"
      },
      "execution_count": null,
      "outputs": []
    },
    {
      "cell_type": "markdown",
      "source": [
        "00_count_nums"
      ],
      "metadata": {
        "id": "s_0MUnD_Z-op"
      }
    },
    {
      "cell_type": "code",
      "source": [
        "def count_numbers():\n",
        "    number_count = {}  # Dictionary to store number and its count\n",
        "\n",
        "    while True:\n",
        "        # Ask the user for a number or press enter to stop\n",
        "        num = input(\"Enter a number: \")\n",
        "\n",
        "        # If input is empty, stop the loop\n",
        "        if num == \"\":\n",
        "            break\n",
        "\n",
        "        # Convert the input to an integer\n",
        "        num = int(num)\n",
        "\n",
        "        # Increment the count for the number in the dictionary\n",
        "        if num in number_count:\n",
        "            number_count[num] += 1\n",
        "        else:\n",
        "            number_count[num] = 1\n",
        "\n",
        "    # Print the counts of each number\n",
        "    for number, count in number_count.items():\n",
        "        print(f\"{number} appears {count} times.\")\n",
        "\n",
        "# Run the function\n",
        "count_numbers()\n"
      ],
      "metadata": {
        "id": "kD-UPgxgZ99M"
      },
      "execution_count": null,
      "outputs": []
    },
    {
      "cell_type": "markdown",
      "source": [
        "01_phonebook"
      ],
      "metadata": {
        "id": "lkAfDdfyaZ88"
      }
    },
    {
      "cell_type": "code",
      "source": [
        "def read_phone_numbers():\n",
        "    \"\"\"\n",
        "    Ask the user for names/numbers to story in a phonebook (dictionary).\n",
        "    Returns the phonebook.\n",
        "    \"\"\"\n",
        "    phonebook = {}                   # Create empty phonebook\n",
        "\n",
        "    while True:\n",
        "        name = input(\"Name: \")\n",
        "        if name == \"\":\n",
        "            break\n",
        "        number = input(\"Number: \")\n",
        "        phonebook[name] = number\n",
        "\n",
        "    return phonebook\n",
        "\n",
        "\n",
        "def print_phonebook(phonebook):\n",
        "    \"\"\"\n",
        "    Prints out all the names/numbers in the phonebook.\n",
        "    \"\"\"\n",
        "    for name in phonebook:\n",
        "        print(str(name) + \" -> \" + str(phonebook[name]))\n",
        "\n",
        "\n",
        "def lookup_numbers(phonebook):\n",
        "    \"\"\"\n",
        "    Allow the user to lookup phone numbers in the phonebook\n",
        "    by looking up the number associated with a name.\n",
        "    \"\"\"\n",
        "    while True:\n",
        "        name = input(\"Enter name to lookup: \")\n",
        "        if name == \"\":\n",
        "            break\n",
        "        if name not in phonebook:\n",
        "            print(name + \" is not in the phonebook\")\n",
        "        else:\n",
        "            print(phonebook[name])\n",
        "\n",
        "\n",
        "def main():\n",
        "    phonebook = read_phone_numbers()\n",
        "    print_phonebook(phonebook)\n",
        "    lookup_numbers(phonebook)\n",
        "\n",
        "\n",
        "# Python boilerplate.\n",
        "if __name__ == '__main__':\n",
        "    main()"
      ],
      "metadata": {
        "id": "scFCq7o1aZbx"
      },
      "execution_count": null,
      "outputs": []
    },
    {
      "cell_type": "markdown",
      "source": [
        "02_pop_up_shop"
      ],
      "metadata": {
        "id": "4gEyGUy6cAS9"
      }
    },
    {
      "cell_type": "code",
      "source": [
        "def main():\n",
        "    fruits = {'apple': 1.5, 'durian': 50, 'jackfruit': 80, 'kiwi': 1, 'rambutan': 1.5, 'mango': 5}\n",
        "\n",
        "    total_cost = 0\n",
        "    for fruit_name in fruits:\n",
        "        price = fruits[fruit_name]\n",
        "        amount_bought = int(input(\"How many (\" + fruit_name + \") do you want to buy?: \"))\n",
        "        total_cost += (price * amount_bought)\n",
        "\n",
        "    print(\"Your total is $\" + str(total_cost))\n",
        "\n",
        "\n",
        "# There is no need to edit code beyond this point\n",
        "\n",
        "if __name__ == '__main__':\n",
        "    main()"
      ],
      "metadata": {
        "id": "lKglvoOQb_sF"
      },
      "execution_count": null,
      "outputs": []
    },
    {
      "cell_type": "markdown",
      "source": [
        "03_powerful_passwords"
      ],
      "metadata": {
        "id": "qyEF6QaEcZdA"
      }
    },
    {
      "cell_type": "code",
      "source": [
        "from hashlib import sha256\n",
        "\n",
        "def login(email, stored_logins, password_to_check):\n",
        "    \"\"\"\n",
        "    Returns True if the hash of the password we are checking matches the one in stored_logins\n",
        "    for a specific email. Otherwise, returns False.\n",
        "\n",
        "    email: the email we are checking the password for\n",
        "    stored_logins: a dictionary pointing from an email to its hashed password\n",
        "    password_to_check: a password we want to test alongside the email to login with\n",
        "    \"\"\"\n",
        "\n",
        "    if stored_logins[email] == hash_password(password_to_check):\n",
        "        return True\n",
        "\n",
        "    return False\n",
        "\n",
        "# There is no need to edit code beyond this point\n",
        "\n",
        "def hash_password(password):\n",
        "    \"\"\"\n",
        "    Takes in a password and returns the SHA256 hashed value for that specific password.\n",
        "\n",
        "    Inputs:\n",
        "        password: the password we want\n",
        "\n",
        "    Outputs:\n",
        "        the hashed form of the input password\n",
        "    \"\"\"\n",
        "\n",
        "    return sha256(password.encode()).hexdigest()\n",
        "\n",
        "def main():\n",
        "    # stored_logins is a dictionary with emails as keys and hashed passwords as values\n",
        "    stored_logins = {\n",
        "        \"example@gmail.com\": \"5e884898da28047151d0e56f8dc6292773603d0d6aabbdd62a11ef721d1542d8\",\n",
        "        \"code_in_placer@cip.org\": \"973607a4ae7b4cf7d96a100b0fb07e8519cc4f70441d41214a9f811577bb06cc\",\n",
        "        \"student@stanford.edu\": \"882c6df720fd99f5eebb1581a1cf975625cea8a160283011c0b9512bb56c95fb\"\n",
        "    }\n",
        "\n",
        "    print(login(\"example@gmail.com\", stored_logins, \"word\"))\n",
        "    print(login(\"example@gmail.com\", stored_logins, \"password\"))\n",
        "\n",
        "    print(login(\"code_in_placer@cip.org\", stored_logins, \"Karel\"))\n",
        "    print(login(\"code_in_placer@cip.org\", stored_logins, \"karel\"))\n",
        "\n",
        "    print(login(\"student@stanford.edu\", stored_logins, \"password\"))\n",
        "    print(login(\"student@stanford.edu\", stored_logins, \"123!456?789\"))\n",
        "\n",
        "\n",
        "if __name__ == '__main__':\n",
        "    main()"
      ],
      "metadata": {
        "id": "NgJ77mJXcYuU"
      },
      "execution_count": null,
      "outputs": []
    },
    {
      "cell_type": "markdown",
      "source": [
        "00_guess_my_number"
      ],
      "metadata": {
        "id": "6LSQ0wCbdb7L"
      }
    },
    {
      "cell_type": "code",
      "source": [
        "import random\n",
        "\n",
        "def guess_my_number():\n",
        "    # The computer picks a random number between 0 and 99\n",
        "    number_to_guess = random.randint(0, 99)\n",
        "\n",
        "    # Start the game and prompt the user for guesses\n",
        "    print(\"I am thinking of a number between 0 and 99...\")\n",
        "\n",
        "    while True:\n",
        "        # Get the user's guess\n",
        "        guess = int(input(\"Enter a guess: \"))\n",
        "\n",
        "        # Check if the guess is too high, too low, or correct\n",
        "        if guess < number_to_guess:\n",
        "            print(\"Your guess is too low\")\n",
        "        elif guess > number_to_guess:\n",
        "            print(\"Your guess is too high\")\n",
        "        else:\n",
        "            print(f\"Congrats! The number was: {number_to_guess}\")\n",
        "            break  # Exit the loop when the correct guess is made\n",
        "\n",
        "# Start the game\n",
        "if __name__ == \"__main__\":\n",
        "    guess_my_number()\n"
      ],
      "metadata": {
        "id": "4BXKv1Lidayv"
      },
      "execution_count": null,
      "outputs": []
    },
    {
      "cell_type": "markdown",
      "source": [
        "01_fibonacci"
      ],
      "metadata": {
        "id": "znZLVNRmfWYV"
      }
    },
    {
      "cell_type": "code",
      "source": [
        "MAX_TERM_VALUE : int = 10000\n",
        "\n",
        "def main():\n",
        "    curr_term = 0  # The 0th Fibonacci Number\n",
        "    next_term = 1  # The 1st Fibonacci Number\n",
        "    while curr_term <= MAX_TERM_VALUE:\n",
        "        print(curr_term)\n",
        "        term_after_next = curr_term + next_term\n",
        "        curr_term = next_term\n",
        "        next_term = term_after_next\n",
        "\n",
        "\n",
        "# There is no need to edit code beyond this point\n",
        "\n",
        "if __name__ == '__main__':\n",
        "    main()"
      ],
      "metadata": {
        "id": "3ivkOa40fVyl"
      },
      "execution_count": null,
      "outputs": []
    },
    {
      "cell_type": "markdown",
      "source": [
        "02_print_events"
      ],
      "metadata": {
        "id": "O3k775wygycu"
      }
    },
    {
      "cell_type": "code",
      "source": [
        "def main():\n",
        "    # This for-loop start at 0 and counts up to 19 (for a total of 20 numbers)\n",
        "    for i in range(20):\n",
        "        print(i * 2)  # Use the 'i' value inside the for-loop\n",
        "\n",
        "# Call the main function when \"run\", no need to edit anything below!\n",
        "if __name__ == \"__main__\":\n",
        "    main()"
      ],
      "metadata": {
        "id": "BZL7Qv1pgxor"
      },
      "execution_count": null,
      "outputs": []
    },
    {
      "cell_type": "markdown",
      "source": [
        "03_wholesome_machine"
      ],
      "metadata": {
        "id": "LUurzsozhNfa"
      }
    },
    {
      "cell_type": "code",
      "source": [
        "AFFIRMATION : str = \"I am capable of doing anything I put my mind to.\"\n",
        "\n",
        "def main():\n",
        "    print(\"Please type the following affirmation: \" + AFFIRMATION)\n",
        "\n",
        "    user_feedback = input()  # Get user's input\n",
        "    while user_feedback != AFFIRMATION:  # While the user's input isn't the affirmation\n",
        "        # Tell the user that they did not type the affirmation correctly\n",
        "        print(\"That was not the affirmation.\")\n",
        "\n",
        "        # Ask the user to type the affirmation again!\n",
        "        print(\"Please type the following affirmation: \" + AFFIRMATION)\n",
        "        user_feedback = input()\n",
        "\n",
        "    print(\"That's right! :)\")\n",
        "\n",
        "\n",
        "# There is no need to edit code beyond this point\n",
        "\n",
        "if __name__ == '__main__':\n",
        "    main()"
      ],
      "metadata": {
        "id": "83HxDtQlhM7O"
      },
      "execution_count": null,
      "outputs": []
    },
    {
      "cell_type": "markdown",
      "source": [
        "04_liftoff"
      ],
      "metadata": {
        "id": "Xjk1DLn2hsf9"
      }
    },
    {
      "cell_type": "code",
      "source": [
        "def countdown():\n",
        "    # Loop from 10 to 1, counting down\n",
        "    for i in range(10, 0, -1):\n",
        "        print(i, end=\" \")\n",
        "    print(\"Liftoff!\")  # Print \"Liftoff!\" after the countdown\n",
        "\n",
        "# Call the countdown function\n",
        "if __name__ == \"__main__\":\n",
        "    countdown()\n"
      ],
      "metadata": {
        "id": "aAfi21yJhr4a"
      },
      "execution_count": null,
      "outputs": []
    },
    {
      "cell_type": "markdown",
      "source": [
        "05_double_it"
      ],
      "metadata": {
        "id": "QE2TXFX7iFze"
      }
    },
    {
      "cell_type": "code",
      "source": [
        "def double_until_hundred():\n",
        "    # Ask the user to enter a number\n",
        "    curr_value = int(input(\"Enter a number: \"))\n",
        "\n",
        "    # Repeat doubling the value until it is 100 or greater\n",
        "    while curr_value < 100:\n",
        "        curr_value = curr_value * 2\n",
        "        print(curr_value, end=\" \")\n",
        "\n",
        "# Call the function to run the program\n",
        "if __name__ == \"__main__\":\n",
        "    double_until_hundred()\n",
        "\n"
      ],
      "metadata": {
        "id": "o50-4_qdiFRb"
      },
      "execution_count": null,
      "outputs": []
    }
  ]
}